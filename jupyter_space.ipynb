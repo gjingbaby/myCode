{
 "cells": [
  {
   "cell_type": "code",
   "execution_count": 11,
   "metadata": {},
   "outputs": [
    {
     "name": "stdout",
     "output_type": "stream",
     "text": [
      "(1, 2, 3) [1, 2, 3]\n"
     ]
    }
   ],
   "source": [
    "a = (1,2,3)\n",
    "b = list(a)\n",
    "print(a,b)"
   ]
  },
  {
   "cell_type": "code",
   "execution_count": 15,
   "metadata": {},
   "outputs": [
    {
     "name": "stdout",
     "output_type": "stream",
     "text": [
      "[1, 2]\n"
     ]
    }
   ],
   "source": [
    "c = list((1,2))\n",
    "print(c)"
   ]
  },
  {
   "cell_type": "code",
   "execution_count": 17,
   "metadata": {},
   "outputs": [
    {
     "name": "stdout",
     "output_type": "stream",
     "text": [
      "2151300068544 2151306572512\n"
     ]
    }
   ],
   "source": [
    "a = (1,2,3)\n",
    "b = a + (5,4)\n",
    "print(id(a),id(b))"
   ]
  },
  {
   "cell_type": "code",
   "execution_count": 19,
   "metadata": {},
   "outputs": [
    {
     "name": "stdout",
     "output_type": "stream",
     "text": [
      "2151300581248\n",
      "2151300581248\n"
     ]
    }
   ],
   "source": [
    "a = [1,2,3]\n",
    "print(id(a))\n",
    "a.append([5,4])\n",
    "print(id(a))"
   ]
  },
  {
   "cell_type": "code",
   "execution_count": null,
   "metadata": {},
   "outputs": [],
   "source": [
    "a = [1,2]\n",
    "b = (1,2)"
   ]
  },
  {
   "cell_type": "code",
   "execution_count": 35,
   "metadata": {},
   "outputs": [
    {
     "name": "stdout",
     "output_type": "stream",
     "text": [
      "True\n"
     ]
    }
   ],
   "source": [
    "d1 = {'name':'jack','age':18,'gender':'male'}\n",
    "d2 = dict({'name':'jack','age':18,'gender':'male'})\n",
    "d3 = dict([('name','jack'),('age',18),('gender','male')])\n",
    "\n",
    "print(d1 == d2 == d3)"
   ]
  },
  {
   "cell_type": "code",
   "execution_count": 49,
   "metadata": {},
   "outputs": [
    {
     "name": "stdout",
     "output_type": "stream",
     "text": [
      "<class 'set'> {1, 2, 3, 4, 'name', 12}\n",
      "jack\n",
      "None\n"
     ]
    }
   ],
   "source": [
    "# s1 = set([1,2,3])\n",
    "# s2 = {1,2,3}\n",
    "# print(s1 == s2)\n",
    "\n",
    "#set  无序，意味着无法通过下标存取，唯一，意味着自动去重\n",
    "s = {'name',2,3,4,3,2,1,12}\n",
    "d1 = {'name':'jack','age':18,'gender':'male'}\n",
    "print(type(s),s)\n",
    "print(d1['name'])\n",
    "#print(s['name'])\n",
    "\n",
    "d2 = d1.get('age')\n",
    "d2 = d1.get('school') #返回none\n",
    "print(d2)\n"
   ]
  },
  {
   "cell_type": "code",
   "execution_count": 51,
   "metadata": {},
   "outputs": [
    {
     "name": "stdout",
     "output_type": "stream",
     "text": [
      "True\n",
      "True\n",
      "False\n"
     ]
    }
   ],
   "source": [
    "#判断元素是否在dict/set\n",
    "s = {'name',2,3,4,3,2,1,12}\n",
    "d1 = {'name':'jack','age':18,'gender':'male'}\n",
    "\n",
    "print('name' in s)\n",
    "#字典对于key和value都可以判断在不在\n",
    "print('age' in d1) \n",
    "print('jack' in d1)"
   ]
  },
  {
   "cell_type": "code",
   "execution_count": 61,
   "metadata": {},
   "outputs": [
    {
     "name": "stdout",
     "output_type": "stream",
     "text": [
      "{2, 3, 'name', 23, 'dfd', 123}\n",
      "{'name': 'jack', 'age': 18, 'gender': 'male', 'friends': 'ana,lucy'}\n",
      "{'name', 23, 'dfd', 123}\n",
      "{'age': 18, 'gender': 'male', 'friends': 'ana,lucy'}\n"
     ]
    }
   ],
   "source": [
    "#dict和set的增删改\n",
    "s = {'name',2,3,23,'dfd'}\n",
    "d1 = {'name':'jack','age':18,'gender':'male'}\n",
    "\n",
    "s.add(123)  #一次只能add一个\n",
    "d1['friends'] = ('ana,lucy')\n",
    "print(s)\n",
    "print(d1)\n",
    "s.remove(2) \n",
    "s.pop()\n",
    "d1.pop('name')\n",
    "print(s)\n",
    "print(d1)"
   ]
  },
  {
   "cell_type": "code",
   "execution_count": 64,
   "metadata": {},
   "outputs": [
    {
     "name": "stdout",
     "output_type": "stream",
     "text": [
      "{'name': 'ana', 'age': 18, 'gender': 'male'}\n",
      "{'name': 'jack', 'age': 18, 'gender': 'male'}\n"
     ]
    }
   ],
   "source": [
    "#字典的key也是唯一的\n",
    "d1 = {'name':'jack','name':'ana','age':18,'gender':'male'}\n",
    "d2 = {'name':'ana','name':'jack','age':18,'gender':'male'}\n",
    "print(d1)\n",
    "print(d2)"
   ]
  },
  {
   "cell_type": "code",
   "execution_count": 70,
   "metadata": {},
   "outputs": [
    {
     "name": "stdout",
     "output_type": "stream",
     "text": [
      "2\n",
      "1\n",
      "2\n"
     ]
    }
   ],
   "source": [
    "d = {'name':'jack','age':18,'gender':'male'}\n",
    "\n",
    "print(hash('name')%3)\n",
    "print(hash('age')%3)\n",
    "print(hash('gender')%3)"
   ]
  },
  {
   "cell_type": "code",
   "execution_count": 73,
   "metadata": {},
   "outputs": [
    {
     "name": "stdout",
     "output_type": "stream",
     "text": [
      "hello\n"
     ]
    }
   ],
   "source": [
    "\"\"\"\n",
    "注释\n",
    "\"\"\"\n",
    "s = \"\"\"hello\"\"\"\n",
    "print(s)"
   ]
  },
  {
   "cell_type": "code",
   "execution_count": 75,
   "metadata": {},
   "outputs": [
    {
     "name": "stdout",
     "output_type": "stream",
     "text": [
      "0123456789101112131415161718192021222324252627282930313233343536373839404142434445464748495051525354555657585960616263646566676869707172737475767778798081828384858687888990919293949596979899\n"
     ]
    }
   ],
   "source": [
    "s = ''\n",
    "for i in range(100):\n",
    "    s += str(i)\n",
    "\n",
    "print(s)"
   ]
  },
  {
   "cell_type": "code",
   "execution_count": 79,
   "metadata": {},
   "outputs": [
    {
     "name": "stdout",
     "output_type": "stream",
     "text": [
      "['1', '2', '3', '4', '5', '6', '7', '8', '9', '10', '11', '12', '13', '14', '15', '16', '17', '18', '19', '20', '21', '22', '23', '24', '25', '26', '27', '28', '29', '30', '31', '32', '33', '34', '35', '36', '37', '38', '39', '40', '41', '42', '43', '44', '45', '46', '47', '48', '49', '50', '51', '52', '53', '54', '55', '56', '57', '58', '59', '60', '61', '62', '63', '64', '65', '66', '67', '68', '69', '70', '71', '72', '73', '74', '75', '76', '77', '78', '79', '80', '81', '82', '83', '84', '85', '86', '87', '88', '89', '90', '91', '92', '93', '94', '95', '96', '97', '98', '99']\n",
      "1_2_3_4_5_6_7_8_9_10_11_12_13_14_15_16_17_18_19_20_21_22_23_24_25_26_27_28_29_30_31_32_33_34_35_36_37_38_39_40_41_42_43_44_45_46_47_48_49_50_51_52_53_54_55_56_57_58_59_60_61_62_63_64_65_66_67_68_69_70_71_72_73_74_75_76_77_78_79_80_81_82_83_84_85_86_87_88_89_90_91_92_93_94_95_96_97_98_99\n"
     ]
    }
   ],
   "source": [
    "s = []\n",
    "for n in range(1,100):\n",
    "    s.append(str(n))\n",
    "\n",
    "print(s)\n",
    "d = '_'.join(s)\n",
    "print(d)\n",
    "\n"
   ]
  },
  {
   "cell_type": "code",
   "execution_count": 81,
   "metadata": {},
   "outputs": [
    {
     "name": "stdout",
     "output_type": "stream",
     "text": [
      " my name is jack \n",
      "my name is jack\n"
     ]
    }
   ],
   "source": [
    "s = ' my name is jack '\n",
    "d = s.strip()\n",
    "print(s)\n",
    "print(d)"
   ]
  },
  {
   "cell_type": "code",
   "execution_count": 82,
   "metadata": {},
   "outputs": [
    {
     "name": "stdout",
     "output_type": "stream",
     "text": [
      "i have a beautiful girl friend,her name is mumu,her id is 123\n"
     ]
    }
   ],
   "source": [
    "print('i have a beautiful girl friend,her name is {},her id is {}'.format('mumu','123'))"
   ]
  },
  {
   "cell_type": "code",
   "execution_count": 103,
   "metadata": {},
   "outputs": [
    {
     "name": "stdout",
     "output_type": "stream",
     "text": [
      "[('and', 15), ('be', 13), ('will', 11), ('to', 11), ('the', 10), ('of', 10), ('a', 8), ('we', 8), ('day', 6), ('able', 6), ('every', 6), ('together', 6), ('i', 5), ('have', 5), ('dream', 5), ('that', 5), ('one', 5), ('with', 5), ('this', 5), ('in', 4), ('shall', 4), ('free', 4), ('when', 4), ('little', 3), ('black', 3), ('white', 3), ('made', 3), ('faith', 3), ('at', 3), ('last', 3), ('children', 2), ('nation', 2), ('by', 2), ('their', 2), ('today', 2), ('alabama', 2), ('boys', 2), ('girls', 2), ('join', 2), ('hands', 2), ('mountain', 2), ('places', 2), ('all', 2), ('it', 2), ('our', 2), ('hope', 2), ('up', 2), ('freedom', 2), ('ring', 2), ('from', 2), ('god', 2), ('men', 2), ('my', 1), ('four', 1), ('live', 1), ('where', 1), ('they', 1), ('not', 1), ('judged', 1), ('color', 1), ('skin', 1), ('but', 1), ('content', 1), ('character', 1), ('down', 1), ('its', 1), ('vicious', 1), ('racists', 1), ('right', 1), ('there', 1), ('as', 1), ('sisters', 1), ('brothers', 1), ('valley', 1), ('exalted', 1), ('hill', 1), ('low', 1), ('rough', 1), ('plain', 1), ('crooked', 1), ('straight', 1), ('glory', 1), ('lord', 1), ('revealed', 1), ('flesh', 1), ('see', 1), ('is', 1), ('hew', 1), ('out', 1), ('despair', 1), ('stone', 1), ('transform', 1), ('jangling', 1), ('discords', 1), ('into', 1), ('beautiful', 1), ('symphony', 1), ('brotherhood', 1), ('work', 1), ('pray', 1), ('struggle', 1), ('go', 1), ('jail', 1), ('stand', 1), ('for', 1), ('knowing', 1), ('happens', 1), ('allow', 1), ('let', 1), ('village', 1), ('hamlet', 1), ('state', 1), ('city', 1), ('speed', 1), ('s', 1), ('jews', 1), ('gentiles', 1), ('protestants', 1), ('catholics', 1), ('sing', 1), ('words', 1), ('old', 1), ('negro', 1), ('spiritual', 1), ('thank', 1), ('almighty', 1), ('are', 1)]\n"
     ]
    }
   ],
   "source": [
    "import re\n",
    "file_address = r'd:/pyworkspace/in.txt'\n",
    "\n",
    "#读文件\n",
    "with open(file_address,'r') as f:\n",
    "    text = f.read()\n",
    "\n",
    "#去掉非单词\n",
    "text = re.sub(r'[\\W]',' ',text)\n",
    "\n",
    "#改小写\n",
    "text = text.lower()\n",
    "# print(text)\n",
    "\n",
    "text_list = text.split(' ')\n",
    "# print(text_list)\n",
    "\n",
    "text_list = filter(None,text_list)\n",
    "\n",
    "word_sta = {}\n",
    "\n",
    "for word in text_list:\n",
    "    if word not in word_sta:\n",
    "        word_sta[word] = 0\n",
    "    word_sta[word] += 1\n",
    "\n",
    "\n",
    "\n",
    "word_sta_sort = sorted(word_sta.items(),key=lambda ws: ws[1],reverse=True)\n",
    "\n",
    "print(word_sta_sort)\n",
    "\n"
   ]
  },
  {
   "cell_type": "code",
   "execution_count": 106,
   "metadata": {},
   "outputs": [
    {
     "name": "stdout",
     "output_type": "stream",
     "text": [
      "<class 'str'> {\"symbol\": \"123456\", \"type\": \"limit\", \"price\": 123.4, \"amount\": 23}\n",
      "<class 'dict'> {'symbol': '123456', 'type': 'limit', 'price': 123.4, 'amount': 23}\n"
     ]
    }
   ],
   "source": [
    "import json\n",
    "params = {    \n",
    "    'symbol': '123456',    \n",
    "    'type': 'limit',    \n",
    "    'price': 123.4,    \n",
    "    'amount': 23}\n",
    "    \n",
    "params_str = json.dumps(params)\n",
    "\n",
    "print(type(params_str),params_str)\n",
    "\n",
    "params_str_load = json.loads(params_str)\n",
    "\n",
    "print(type(params_str_load),params_str_load)\n"
   ]
  },
  {
   "cell_type": "code",
   "execution_count": 109,
   "metadata": {},
   "outputs": [
    {
     "name": "stdout",
     "output_type": "stream",
     "text": [
      "name\n",
      "dob\n",
      "gender\n",
      "jason\n",
      "2000-01-01\n",
      "male\n",
      "key:name,value:jason\n",
      "key:dob,value:2000-01-01\n",
      "key:gender,value:male\n"
     ]
    }
   ],
   "source": [
    "d = {'name': 'jason', 'dob': '2000-01-01', 'gender': 'male'}\n",
    "\n",
    "for item in d:\n",
    "    print(item)\n",
    "\n",
    "for item in d.values():\n",
    "    print(item)\n",
    "\n",
    "for k,v in d.items():\n",
    "    print('key:{},value:{}'.format(k,v))"
   ]
  },
  {
   "cell_type": "code",
   "execution_count": 134,
   "metadata": {},
   "outputs": [
    {
     "name": "stdout",
     "output_type": "stream",
     "text": [
      "name:a,color:122\n",
      "name:c,color:109\n",
      "name:e,color:12\n"
     ]
    }
   ],
   "source": [
    "'''\n",
    "ArithmeticError\n",
    "所谓 continue，就是让程序跳过当前这层循环，继续执行下面的循环；\n",
    "而 break 则是指完全跳出所在的整个循环体。\n",
    "'''\n",
    "\n",
    "#查询出价格小于1000，颜色不是红色的商品\n",
    "name_price = {'a':122,'b':989,'c':109,'d':1244,'e':12,'f':245,'g':2398}\n",
    "name_color = {'a':'white','b':'red','c':'violet','d':'black','e':'orange','f':'red'}\n",
    "\n",
    "for name,price in name_price.items():\n",
    "    if price >= 1000:\n",
    "        # print(name,price)\n",
    "        continue\n",
    "    # print('price < 1000 {}:{}'.format(name,price))\n",
    "    if name not in name_color:\n",
    "        continue\n",
    "    # print(name,price,name_color[name])\n",
    "    \n",
    "    if name_color[name] == 'red':\n",
    "        continue\n",
    "    print('name:{},color:{}'.format(name,name_price[name],name_color[name]))\n",
    "\n"
   ]
  },
  {
   "cell_type": "code",
   "execution_count": 138,
   "metadata": {},
   "outputs": [
    {
     "name": "stdout",
     "output_type": "stream",
     "text": [
      "[{'name': 'jason', 'dob': '2000-01-01', 'gender': 'male'}, {'name': 'mike', 'dob': '1999-01-01', 'gender': 'male'}, {'name': 'nancy', 'dob': '2001-02-01', 'gender': 'female'}]\n"
     ]
    }
   ],
   "source": [
    "\n",
    "attributes = ['name', 'dob', 'gender']\n",
    "values = [['jason', '2000-01-01', 'male'],['mike', '1999-01-01', 'male'],['nancy', '2001-02-01', 'female']]\n",
    "\n",
    "l = []\n",
    "\n",
    "for y in values:\n",
    "    l.append({attributes[0]:y[0],attributes[1]:y[1],attributes[2]:y[2]})\n",
    "\n",
    "print(l)\n"
   ]
  }
 ],
 "metadata": {
  "kernelspec": {
   "display_name": "Python 3.10.1 64-bit",
   "language": "python",
   "name": "python3"
  },
  "language_info": {
   "codemirror_mode": {
    "name": "ipython",
    "version": 3
   },
   "file_extension": ".py",
   "mimetype": "text/x-python",
   "name": "python",
   "nbconvert_exporter": "python",
   "pygments_lexer": "ipython3",
   "version": "3.10.1"
  },
  "orig_nbformat": 4,
  "vscode": {
   "interpreter": {
    "hash": "478a92dbe663cce7c3fa41c61c54289e8c18324b2087979ba9b3d34363863902"
   }
  }
 },
 "nbformat": 4,
 "nbformat_minor": 2
}
