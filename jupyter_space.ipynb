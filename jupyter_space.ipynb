{
 "cells": [
  {
   "cell_type": "code",
   "execution_count": null,
   "metadata": {},
   "outputs": [],
   "source": [
    "a = (1,2,3)\n",
    "b = list(a)\n",
    "print(a,b)"
   ]
  },
  {
   "cell_type": "code",
   "execution_count": null,
   "metadata": {},
   "outputs": [],
   "source": [
    "c = list((1,2))\n",
    "print(c)"
   ]
  },
  {
   "cell_type": "code",
   "execution_count": null,
   "metadata": {},
   "outputs": [],
   "source": [
    "a = (1,2,3)\n",
    "b = a + (5,4)\n",
    "print(id(a),id(b))"
   ]
  },
  {
   "cell_type": "code",
   "execution_count": null,
   "metadata": {},
   "outputs": [],
   "source": [
    "a = [1,2,3]\n",
    "print(id(a))\n",
    "a.append([5,4])\n",
    "print(id(a))"
   ]
  },
  {
   "cell_type": "code",
   "execution_count": null,
   "metadata": {},
   "outputs": [],
   "source": [
    "a = [1,2]\n",
    "b = (1,2)"
   ]
  },
  {
   "cell_type": "code",
   "execution_count": null,
   "metadata": {},
   "outputs": [],
   "source": [
    "d1 = {'name':'jack','age':18,'gender':'male'}\n",
    "d2 = dict({'name':'jack','age':18,'gender':'male'})\n",
    "d3 = dict([('name','jack'),('age',18),('gender','male')])\n",
    "\n",
    "print(d1 == d2 == d3)"
   ]
  },
  {
   "cell_type": "code",
   "execution_count": null,
   "metadata": {},
   "outputs": [],
   "source": [
    "# s1 = set([1,2,3])\n",
    "# s2 = {1,2,3}\n",
    "# print(s1 == s2)\n",
    "\n",
    "#set  无序，意味着无法通过下标存取，唯一，意味着自动去重\n",
    "s = {'name',2,3,4,3,2,1,12}\n",
    "d1 = {'name':'jack','age':18,'gender':'male'}\n",
    "print(type(s),s)\n",
    "print(d1['name'])\n",
    "#print(s['name'])\n",
    "\n",
    "d2 = d1.get('age')\n",
    "d2 = d1.get('school') #返回none\n",
    "print(d2)\n"
   ]
  },
  {
   "cell_type": "code",
   "execution_count": null,
   "metadata": {},
   "outputs": [],
   "source": [
    "#判断元素是否在dict/set\n",
    "s = {'name',2,3,4,3,2,1,12}\n",
    "d1 = {'name':'jack','age':18,'gender':'male'}\n",
    "\n",
    "print('name' in s)\n",
    "#字典对于key和value都可以判断在不在\n",
    "print('age' in d1) \n",
    "print('jack' in d1)"
   ]
  },
  {
   "cell_type": "code",
   "execution_count": null,
   "metadata": {},
   "outputs": [],
   "source": [
    "#dict和set的增删改\n",
    "s = {'name',2,3,23,'dfd'}\n",
    "d1 = {'name':'jack','age':18,'gender':'male'}\n",
    "\n",
    "s.add(123)  #一次只能add一个\n",
    "d1['friends'] = ('ana,lucy')\n",
    "print(s)\n",
    "print(d1)\n",
    "s.remove(2) \n",
    "s.pop()\n",
    "d1.pop('name')\n",
    "print(s)\n",
    "print(d1)"
   ]
  },
  {
   "cell_type": "code",
   "execution_count": null,
   "metadata": {},
   "outputs": [],
   "source": [
    "#字典的key也是唯一的\n",
    "d1 = {'name':'jack','name':'ana','age':18,'gender':'male'}\n",
    "d2 = {'name':'ana','name':'jack','age':18,'gender':'male'}\n",
    "print(d1)\n",
    "print(d2)"
   ]
  },
  {
   "cell_type": "code",
   "execution_count": null,
   "metadata": {},
   "outputs": [],
   "source": [
    "d = {'name':'jack','age':18,'gender':'male'}\n",
    "\n",
    "print(hash('name')%3)\n",
    "print(hash('age')%3)\n",
    "print(hash('gender')%3)"
   ]
  },
  {
   "cell_type": "code",
   "execution_count": null,
   "metadata": {},
   "outputs": [],
   "source": [
    "\"\"\"\n",
    "注释\n",
    "\"\"\"\n",
    "s = \"\"\"hello\"\"\"\n",
    "print(s)"
   ]
  },
  {
   "cell_type": "code",
   "execution_count": null,
   "metadata": {},
   "outputs": [],
   "source": [
    "s = ''\n",
    "for i in range(100):\n",
    "    s += str(i)\n",
    "\n",
    "print(s)"
   ]
  },
  {
   "cell_type": "code",
   "execution_count": null,
   "metadata": {},
   "outputs": [],
   "source": [
    "s = []\n",
    "for n in range(1,100):\n",
    "    s.append(str(n))\n",
    "\n",
    "print(s)\n",
    "d = '_'.join(s)\n",
    "print(d)\n",
    "\n"
   ]
  },
  {
   "cell_type": "code",
   "execution_count": null,
   "metadata": {},
   "outputs": [],
   "source": [
    "s = ' my name is jack '\n",
    "d = s.strip()\n",
    "print(s)\n",
    "print(d)"
   ]
  },
  {
   "cell_type": "code",
   "execution_count": null,
   "metadata": {},
   "outputs": [],
   "source": [
    "print('i have a beautiful girl friend,her name is {},her id is {}'.format('mumu','123'))"
   ]
  },
  {
   "cell_type": "code",
   "execution_count": null,
   "metadata": {},
   "outputs": [],
   "source": [
    "import re\n",
    "file_address = r'd:/pyworkspace/in.txt'\n",
    "\n",
    "#读文件\n",
    "with open(file_address,'r') as f:\n",
    "    text = f.read()\n",
    "\n",
    "#去掉非单词\n",
    "text = re.sub(r'[\\W]',' ',text)\n",
    "\n",
    "#改小写\n",
    "text = text.lower()\n",
    "# print(text)\n",
    "\n",
    "text_list = text.split(' ')\n",
    "# print(text_list)\n",
    "\n",
    "text_list = filter(None,text_list)\n",
    "\n",
    "word_sta = {}\n",
    "\n",
    "for word in text_list:\n",
    "    if word not in word_sta:\n",
    "        word_sta[word] = 0\n",
    "    word_sta[word] += 1\n",
    "\n",
    "\n",
    "\n",
    "word_sta_sort = sorted(word_sta.items(),key=lambda ws: ws[1],reverse=True)\n",
    "\n",
    "print(word_sta_sort)\n",
    "\n"
   ]
  },
  {
   "cell_type": "code",
   "execution_count": null,
   "metadata": {},
   "outputs": [],
   "source": [
    "import json\n",
    "params = {    \n",
    "    'symbol': '123456',    \n",
    "    'type': 'limit',    \n",
    "    'price': 123.4,    \n",
    "    'amount': 23}\n",
    "    \n",
    "params_str = json.dumps(params)\n",
    "\n",
    "print(type(params_str),params_str)\n",
    "\n",
    "params_str_load = json.loads(params_str)\n",
    "\n",
    "print(type(params_str_load),params_str_load)\n"
   ]
  },
  {
   "cell_type": "code",
   "execution_count": null,
   "metadata": {},
   "outputs": [],
   "source": [
    "d = {'name': 'jason', 'dob': '2000-01-01', 'gender': 'male'}\n",
    "\n",
    "for item in d:\n",
    "    print(item)\n",
    "\n",
    "for item in d.values():\n",
    "    print(item)\n",
    "\n",
    "for k,v in d.items():\n",
    "    print('key:{},value:{}'.format(k,v))"
   ]
  },
  {
   "cell_type": "code",
   "execution_count": null,
   "metadata": {},
   "outputs": [],
   "source": [
    "'''\n",
    "ArithmeticError\n",
    "所谓 continue，就是让程序跳过当前这层循环，继续执行下面的循环；\n",
    "而 break 则是指完全跳出所在的整个循环体。\n",
    "'''\n",
    "\n",
    "#查询出价格小于1000，颜色不是红色的商品\n",
    "name_price = {'a':122,'b':989,'c':109,'d':1244,'e':12,'f':245,'g':2398}\n",
    "name_color = {'a':'white','b':'red','c':'violet','d':'black','e':'orange','f':'red'}\n",
    "\n",
    "for name,price in name_price.items():\n",
    "    if price >= 1000:\n",
    "        # print(name,price)\n",
    "        continue\n",
    "    # print('price < 1000 {}:{}'.format(name,price))\n",
    "    if name not in name_color:\n",
    "        continue\n",
    "    # print(name,price,name_color[name])\n",
    "    \n",
    "    if name_color[name] == 'red':\n",
    "        continue\n",
    "    print('name:{},color:{}'.format(name,name_price[name],name_color[name]))\n",
    "\n"
   ]
  },
  {
   "cell_type": "code",
   "execution_count": null,
   "metadata": {},
   "outputs": [],
   "source": [
    "\n",
    "attributes = ['name', 'dob', 'gender']\n",
    "values = [['jason', '2000-01-01', 'male'],['mike', '1999-01-01', 'male'],['nancy', '2001-02-01', 'female']]\n",
    "\n",
    "l = []\n",
    "\n",
    "for y in values:\n",
    "    l.append({attributes[0]:y[0],attributes[1]:y[1],attributes[2]:y[2]})\n",
    "\n",
    "print(l)\n"
   ]
  },
  {
   "cell_type": "code",
   "execution_count": null,
   "metadata": {},
   "outputs": [],
   "source": [
    "import matplotlib.pyplot as plt\n",
    "import numpy as np\n",
    "\n",
    "x = np.linspace(-3,3,50)\n",
    "y = x**2\n",
    "\n",
    "plt.figure()\n",
    "plt.plot(x,y,color = 'red',linewidth = 1.0,linestyle = '--')\n",
    "plt.show()\n"
   ]
  },
  {
   "cell_type": "code",
   "execution_count": null,
   "metadata": {},
   "outputs": [],
   "source": [
    "import matplotlib.pyplot as plt\n",
    "import numpy as np\n",
    "\n",
    "#定义公式\n",
    "x = np.linspace(-10,10,100)  #范围和数量\n",
    "y = x*np.sin(10*np.pi*x) + 2.0\n",
    "\n",
    "#定义画布\n",
    "plt.plot(x, y, color = 'blue')\n",
    "plt.title('Function f(x) = x*sin(10*pi*x) + 2.0')\n",
    "\n",
    "#显示\n",
    "plt.show()\n",
    "\n",
    "\n"
   ]
  },
  {
   "cell_type": "code",
   "execution_count": null,
   "metadata": {},
   "outputs": [],
   "source": [
    "\n",
    "a = 0  #全局变量\n",
    "def plus():\n",
    "    a = 1  #局部变量\n",
    "    for i in range(10):\n",
    "        a += i\n",
    "        print(a)\n",
    "\n",
    "plus()"
   ]
  },
  {
   "cell_type": "code",
   "execution_count": null,
   "metadata": {},
   "outputs": [],
   "source": [
    "#闭包\n",
    "\n",
    "def nth_power(exp):\n",
    "    def exp_of(base):\n",
    "        return base**exp\n",
    "    return exp_of\n",
    "\n",
    "#平方\n",
    "e2 = nth_power(2) #返回值是exp_of\n",
    "#求平方\n",
    "calc_e2 = e2(5)  #等价于exp_of(5)\n",
    "#nth_power(2)(5)\n",
    "print(calc_e2)\n"
   ]
  },
  {
   "cell_type": "code",
   "execution_count": null,
   "metadata": {},
   "outputs": [],
   "source": [
    "#匿名函数\n",
    "\n",
    "l = [(lambda x : x*x)(x) for x in range(1,10)] #(lambda x : x*x)返回的是函数对象，(lambda x : x*x)(x)是带参数的函数\n",
    "print(l)\n",
    "\n",
    "# from tkinter import Button, mainloop\n",
    "# button = Button( \n",
    "#     text='This is a button', \n",
    "#     command=lambda: print('being pressed')) # lambda: print('being pressed')无参数的状态\n",
    "# button.pack()\n",
    "# mainloop()\n",
    "\n",
    "h = lambda: print('being pressed')\n",
    "h() #与常规函数的调用一致"
   ]
  },
  {
   "cell_type": "code",
   "execution_count": null,
   "metadata": {},
   "outputs": [],
   "source": [
    "#map函数/函数式编程\n",
    "'''  \n",
    "map(function, iterable) 函数，前面的例子提到过，它表示，\n",
    "对 iterable 中的每个元素，都运用 function 这个函数，\n",
    "最后返回一个新的可遍历的集合\n",
    "\n",
    "'''\n",
    "l = [1,2,4,5,6] \n",
    "new_l = map(lambda x : x*x,[1,2,4,5,6])\n",
    "print(list(new_l))\n",
    "\n",
    "new_l2 = [x**3 for x in range(10)]\n",
    "print(new_l2)\n"
   ]
  },
  {
   "cell_type": "code",
   "execution_count": null,
   "metadata": {},
   "outputs": [],
   "source": [
    "#filter函数/函数式编程\n",
    "\n",
    "'''\n",
    "filter(function, iterable) 函数，\n",
    "function 同样表示一个函数对象。\n",
    "filter() 函数表示对 iterable 中的每个元素，\n",
    "都使用 function 判断，\n",
    "并返回 True 或者 False，\n",
    "最后将返回 True 的元素组成一个新的可遍历的集合。\n",
    "'''\n",
    "\n",
    "l = [1,3,4,6,8,2,10,34]\n",
    "new_l = filter(lambda x : x % 2 == 0,l)\n",
    "print(list(new_l))\n"
   ]
  },
  {
   "cell_type": "code",
   "execution_count": null,
   "metadata": {},
   "outputs": [],
   "source": [
    "#reduce()函数\n",
    "'''\n",
    "它通常用来对一个集合做一些累积操作。\n",
    "function 同样是一个函数对象，\n",
    "规定它有两个参数，\n",
    "表示对 iterable 中的每个元素以及上一次调用后的结果，\n",
    "运用 function 进行计算，\n",
    "所以最后返回的是一个单独的数值\n",
    "'''\n",
    "\n",
    "'''\n",
    "python3 中将reduce函数内置到functools中，非全局名字\n",
    "map和filter不受影响\n",
    "'''\n",
    "from functools import reduce\n",
    "# l = [1,2,3,4,5]\n",
    "new_l = reduce(lambda x,y:x*y,range(1,10))\n",
    "print(new_l)\n"
   ]
  },
  {
   "cell_type": "code",
   "execution_count": null,
   "metadata": {},
   "outputs": [],
   "source": [
    "d = {'mike': 10, 'lucy': 2, 'ben': 30}\n",
    "\n",
    "s = sorted(d.items(),key = lambda x : x[1])\n",
    "\n",
    "print(s)"
   ]
  },
  {
   "cell_type": "code",
   "execution_count": null,
   "metadata": {},
   "outputs": [],
   "source": [
    "'''\n",
    "对象、类\n",
    "抽象类作为父类，抽象类就是这么一种存在，\n",
    "它是一种自上而下的设计风范，\n",
    "你只需要用少量的代码描述清楚要做的事情，\n",
    "定义好接口，然后就可以交给不同开发人员去开发和对接。\n",
    "'''\n",
    "from abc import ABCMeta,abstractmethod   #abc是抽象基类\n",
    "\n",
    "class entity(metaclass = ABCMeta):  #ABCMeta抽象类基类\n",
    "    def __init__(self):\n",
    "        pass\n",
    "    \n",
    "    @abstractmethod   #抽象类装饰器\n",
    "    def get_title():\n",
    "        pass\n",
    "\n",
    "    @abstractmethod\n",
    "    def set_title():\n",
    "        pass\n",
    "\n",
    "class Document(entity):\n",
    "\n",
    "    def get_title(self):\n",
    "        print(self.title) \n",
    "\n",
    "    def set_title(self, title):\n",
    "        self.title = title\n",
    "\n",
    "\n",
    "doc = Document()\n",
    "\n",
    "doc.set_title('hello')\n",
    "doc.get_title()\n",
    "\n",
    "#e = entity() #抽象类不能实例化\n"
   ]
  },
  {
   "cell_type": "code",
   "execution_count": 2,
   "metadata": {},
   "outputs": [
    {
     "name": "stdout",
     "output_type": "stream",
     "text": [
      "found 1 results (s):\n",
      "D:\\pyworkspace\\testtxt\\5.txt\n"
     ]
    }
   ],
   "source": [
    "'''\n",
    "简单的搜索引擎\n",
    "类的继承\n",
    "1.子类继承父类的所有属性、函数、方法\n",
    "2.子类继承多个父类时，按声明的顺序进行调用，或者直接使用父类名称调用\n",
    "3.子类可以重写父类的函数\n",
    "\n",
    "'''\n",
    "#include utf-8\n",
    "\n",
    "file_li = [\n",
    "    r'D:\\pyworkspace\\testtxt\\1.txt',\n",
    "    r'D:\\pyworkspace\\testtxt\\2.txt',\n",
    "    r'D:\\pyworkspace\\testtxt\\3.txt',\n",
    "    r'D:\\pyworkspace\\testtxt\\4.txt',\n",
    "    r'D:\\pyworkspace\\testtxt\\5.txt',\n",
    "]\n",
    "\n",
    "class searchEngineBase(object):  #define基类\n",
    "    def __init__(self):\n",
    "        pass\n",
    "\n",
    "    def add_corpus(self, file_path):\n",
    "        with open(file_path, 'r',encoding='gb18030') as fin:\n",
    "            text = fin.read()\n",
    "        self.process_corpus(file_path, text)\n",
    "\n",
    "    #基类函数，待实例化后重写，未重写调用会抛出异常\n",
    "    def process_corpus(self, id,text):\n",
    "        raise Exception(\"process_corpus not implemented.\")\n",
    "\n",
    "    def search(self,query):\n",
    "        raise Exception(\"search not implemented.\")\n",
    "\n",
    "\n",
    "class simpleEngine(searchEngineBase):\n",
    "    def __init__(self):\n",
    "        super(simpleEngine,self).__init__()  #调用simpleEngine的父类即searchEngineBase的构造方法\n",
    "        self.__id_to_text = {}  #私有\n",
    "    def process_corpus(self,id,text):  #重写父类的该函数\n",
    "        self.__id_to_text[id] = text\n",
    "    def search(self, query):  #重写父类的该函数\n",
    "        results = []\n",
    "        for id,text in self.__id_to_text.items():   \n",
    "            if query in text:\n",
    "                results.append(id)\n",
    "        return results\n",
    "\n",
    "def main(search_engine):\n",
    "    for file_path in file_li:\n",
    "        search_engine.add_corpus(file_path)   #调用的是search_engine的父类的add_corpus\n",
    "\n",
    "    while True:\n",
    "        query = input()\n",
    "        results = search_engine.search(query)\n",
    "        print('found {} results (s):'.format(len(results)))\n",
    "        for result in results:\n",
    "            print(result)\n",
    "        break\n",
    "\n",
    "\n",
    "search_engine = simpleEngine()\n",
    "main(search_engine)\n",
    "\n",
    "\n",
    "\n"
   ]
  },
  {
   "cell_type": "code",
   "execution_count": null,
   "metadata": {},
   "outputs": [],
   "source": [
    "'''\n",
    "if __name__ == '__main__':   函数入口\n",
    "\n",
    "能够保证在其他文件引用时，不执行入口以下的内容\n",
    "'''"
   ]
  },
  {
   "cell_type": "code",
   "execution_count": 3,
   "metadata": {},
   "outputs": [
    {
     "name": "stdout",
     "output_type": "stream",
     "text": [
      "(1, 2, [3, 4, 5])\n"
     ]
    }
   ],
   "source": [
    "t1 = (1,2,[3,4])\n",
    "t2 = (1,2,[3,4])\n",
    "\n",
    "t2[-1].append(5)\n",
    "\n",
    "print(t2)"
   ]
  },
  {
   "cell_type": "code",
   "execution_count": 6,
   "metadata": {},
   "outputs": [
    {
     "name": "stdout",
     "output_type": "stream",
     "text": [
      "[[1, 2, 3], (30, 40), 100] [[1, 2, 3], (30, 40)]\n",
      "[[1, 2, 3], (30, 40), 100] [[1, 2], (30, 40)]\n"
     ]
    }
   ],
   "source": [
    "'''\n",
    "浅拷贝和深拷贝\n",
    "'''\n",
    "import copy\n",
    "l1 = [[1,2],(30,40)]\n",
    "l2 = list(l1)   #浅拷贝，l2是对l1得[1,2],(30,40)两个元素的引用\n",
    "\n",
    "l1[0].append(3)   #给[1,2]元素append3，[1,2]元素是被l2引用的，所以造成了l2受影响\n",
    "l1.append(100)   #给l1append100，跟l2引用的[1,2],(30,40)两个元素没有关系，所以对l2没有影响\n",
    "print(l1,l2)\n",
    "\n",
    "\n",
    "l3 = [[1,2],(30,40)]\n",
    "l4 = copy.deepcopy(l3)   #deepcopy完全不影响\n",
    "l3[0].append(3) \n",
    "l3.append(100)\n",
    "\n",
    "print(l3,l4)\n",
    "\n",
    "\n",
    "\n",
    "\n",
    "\n",
    "\n",
    "\n",
    "\n"
   ]
  },
  {
   "cell_type": "code",
   "execution_count": 10,
   "metadata": {},
   "outputs": [
    {
     "name": "stdout",
     "output_type": "stream",
     "text": [
      "1612660343024\n",
      "1612660343024\n",
      "1612660343056 2\n"
     ]
    }
   ],
   "source": [
    "\"\"\"\n",
    "传参\n",
    "\"\"\"\n",
    "# a = 1\n",
    "# b = a\n",
    "# a = a + 1\n",
    "\n",
    "# print(id(a),a)\n",
    "# print(id(b),b)\n",
    "\n",
    "a = 1\n",
    "b = 1\n",
    "c = b\n",
    "\n",
    "c = 2\n",
    "print(id(a))\n",
    "print(id(b))\n",
    "print(id(c),c)\n"
   ]
  },
  {
   "cell_type": "code",
   "execution_count": 1,
   "metadata": {},
   "outputs": [
    {
     "name": "stdout",
     "output_type": "stream",
     "text": [
      "wrapper of my decorator\n",
      "hello world\n"
     ]
    }
   ],
   "source": [
    "'''\n",
    "这里的函数 my_decorator() 就是一个装饰器，\n",
    "它把真正需要执行的函数 greet() 包裹在其中，\n",
    "并且改变了它的行为，但是原函数 greet() 不变。\n",
    "'''\n",
    "def my_decorator(func):\n",
    "    def wrapper():\n",
    "        print('wrapper of my decorator')\n",
    "        func()\n",
    "    return wrapper\n",
    "\n",
    "def greet():\n",
    "    print('hello world')\n",
    "\n",
    "greet = my_decorator(greet) \n",
    "'''\n",
    "参数传递\n",
    "greet = my_decorator(greet) 会返回wrapper,同时将greet传给func\n",
    "既wrapper函数变为\n",
    "def wrapper():\n",
    "    print('wrapper of my decorator')\n",
    "    greet()\n",
    "'''\n",
    "greet()   #相当于执行wrapper()函数，而且是greet赋值后的，因此先执行print('wrapper of my decorator')，再执行greet()\n",
    "\n",
    "# @my_decorator\n",
    "# def greet():\n",
    "#     print('hello world')\n",
    "# greet()"
   ]
  },
  {
   "cell_type": "code",
   "execution_count": 3,
   "metadata": {},
   "outputs": [
    {
     "name": "stdout",
     "output_type": "stream",
     "text": [
      "wrapper of my decorator\n",
      "hello world\n"
     ]
    }
   ],
   "source": [
    "'''简单装饰器(装饰器无参数@decorator)\n",
    "实际上相当于给原函数添加额外的功能，但是又不改变原函数，用外挂插件理解更合适\n",
    "所以装饰器这个命名挺准确\n",
    "'''\n",
    "\n",
    "#这是装饰器壳子\n",
    "def my_decorator(func):\n",
    "    #这是实际的装饰函数\n",
    "    def wrapper():\n",
    "        print('wrapper of my decorator')\n",
    "        func()\n",
    "    return wrapper\n",
    "\n",
    "'''\n",
    "语法糖写法\n",
    "@my_decorator\n",
    "相当于\n",
    "greet = my_decorator(greet)\n",
    "'''\n",
    "@my_decorator\n",
    "#这是原函数\n",
    "def greet():\n",
    "    print('hello world')\n",
    "\n",
    "greet()\n",
    "\n",
    "#语法糖写法"
   ]
  },
  {
   "cell_type": "code",
   "execution_count": 5,
   "metadata": {},
   "outputs": [
    {
     "name": "stdout",
     "output_type": "stream",
     "text": [
      "wrapper of my decorator\n",
      "hello\n"
     ]
    }
   ],
   "source": [
    "'''原函数传参给装饰器'''\n",
    "def my_decorator(func):\n",
    "    def wrapper(msg):\n",
    "        print('wrapper of my decorator')\n",
    "        func(msg)\n",
    "    return wrapper\n",
    "\n",
    "@my_decorator\n",
    "def greet(msg):\n",
    "    print(msg)\n",
    "\n",
    "greet('hello')\n",
    "'''\n",
    "执行时的参数传递如下：\n",
    "返回的wrapper函数是\n",
    "def wrapper(msg):\n",
    "    print('wrapper of my decorator')\n",
    "    greet(msg)\n",
    "\n",
    "执行greet('hello')时实际上是\n",
    "wrapper('hello')\n",
    "即\n",
    "def wrapper('hello'):\n",
    "    print('wrapper of my decorator')\n",
    "    greet('hello')\n",
    "\n",
    "总结：原函数参数(msg)是需要在装饰函数上声明的(wrapper(msg))\n",
    "原函数名是在装饰器壳子上传递的\n",
    "'''\n"
   ]
  },
  {
   "cell_type": "code",
   "execution_count": 7,
   "metadata": {},
   "outputs": [
    {
     "name": "stdout",
     "output_type": "stream",
     "text": [
      "wrapper of my decorator\n",
      "hellolyon\n"
     ]
    }
   ],
   "source": [
    "'''原函数传多参数给装饰器'''\n",
    "def my_decorator(func):\n",
    "    def wrapper(*args,**kwargs):\n",
    "        print('wrapper of my decorator')\n",
    "        func(*args,**kwargs)\n",
    "    return wrapper\n",
    "\n",
    "@my_decorator\n",
    "def greet(msg1,msg2):\n",
    "    print(msg1+msg2)\n",
    "\n",
    "greet('hello','lyon')\n"
   ]
  },
  {
   "cell_type": "code",
   "execution_count": 11,
   "metadata": {},
   "outputs": [
    {
     "name": "stdout",
     "output_type": "stream",
     "text": [
      "wrapper of my decorotor\n",
      "hello\n",
      "wrapper of my decorotor\n",
      "hello\n",
      "wrapper of my decorotor\n",
      "hello\n",
      "wrapper of my decorotor\n",
      "hello\n",
      "wrapper\n"
     ]
    }
   ],
   "source": [
    "'''带参数的装饰器   @decorotor()'''\n",
    "\n",
    "def repeat(num):\n",
    "    def my_decorator(func):\n",
    "        def wrapper(*args, **kwargs):\n",
    "            for i in range(num):\n",
    "                print('wrapper of my decorotor')\n",
    "                func(*args, **kwargs)\n",
    "        return wrapper   #wrapper返回给my_decorator\n",
    "    return my_decorator  #my_decorator返回给repeat\n",
    "    #没有层层返回会造成Nonetype\n",
    "\n",
    "@repeat(4)\n",
    "def greet():\n",
    "    print('hello')\n",
    "\n",
    "greet()\n",
    "\n",
    "#原函数的元信息name已经改变\n",
    "print(greet.__name__)\n"
   ]
  },
  {
   "cell_type": "code",
   "execution_count": 14,
   "metadata": {},
   "outputs": [
    {
     "name": "stdout",
     "output_type": "stream",
     "text": [
      "wrapper of my decorator\n",
      "hello  lyon\n",
      "greet\n"
     ]
    }
   ],
   "source": [
    "'''装饰器嵌套，保留原函数元信息'''\n",
    "import functools   #引用内置装饰器\n",
    "def my_decorator(func):\n",
    "    @functools.wraps(func)  #内置装饰器，保留原函数元信息\n",
    "    def wrapper(*args,**kwargs):\n",
    "        print('wrapper of my decorator')\n",
    "        func(*args,**kwargs)\n",
    "    return wrapper\n",
    "\n",
    "\n",
    "@my_decorator\n",
    "def greet(msg1,msg2):\n",
    "    print(msg1+msg2)\n",
    "\n",
    "greet('hello','  lyon')\n",
    "print(greet.__name__)\n"
   ]
  },
  {
   "cell_type": "code",
   "execution_count": null,
   "metadata": {},
   "outputs": [],
   "source": [
    "'''装饰器的使用场景\n",
    "1.插入日志、性能测试、事务处理、缓存、权限校验\n",
    "实际上是在不改变原函数的情况下，通过装饰器增加新的功能\n",
    "'''"
   ]
  },
  {
   "cell_type": "code",
   "execution_count": null,
   "metadata": {},
   "outputs": [],
   "source": [
    "'''\n",
    "1metaclass\n",
    "2\n",
    "'''\n",
    "import asyncio"
   ]
  },
  {
   "cell_type": "code",
   "execution_count": 2,
   "metadata": {},
   "outputs": [
    {
     "name": "stdout",
     "output_type": "stream",
     "text": [
      "Wall time: 1.16 s\n"
     ]
    }
   ],
   "source": [
    "\n",
    "#程序运行时间\n",
    "def Countdown(n):\n",
    "    while n > 0:\n",
    "        n -= 1\n",
    "\n",
    "%time Countdown(10000000)"
   ]
  },
  {
   "cell_type": "code",
   "execution_count": 7,
   "metadata": {},
   "outputs": [
    {
     "name": "stdout",
     "output_type": "stream",
     "text": [
      "initial memory used: 89.453125MB\n",
      "after a created memory used: 473.46875MB\n",
      "finished memory used: 91.2109375MB\n"
     ]
    }
   ],
   "source": [
    "#程序占用内存大小\n",
    "#垃圾回收机制测试\n",
    "import os\n",
    "import psutil  #获取系统运行的进程和系统利用率（包括CPU、内存、磁盘、网络等）信息\n",
    "\n",
    "\n",
    "def show_memory_info(hint):\n",
    "    pid = os.getpid()\n",
    "    p = psutil.Process(pid)\n",
    "\n",
    "    info = p.memory_full_info()\n",
    "    memory = info.uss / 1024. / 1024\n",
    "    print('{} memory used: {}MB'.format(hint, memory))\n",
    "\n",
    "\n",
    "# def func():\n",
    "#     show_memory_info('initial')\n",
    "#     a = [i for i in range(10000000)]\n",
    "#     show_memory_info('after a created')\n",
    "\n",
    "\n",
    "# def func():\n",
    "#     show_memory_info('initial')\n",
    "#     global a  #声明全局变量，函数执行完成之后，不会被销毁，也就是内存不会释放\n",
    "#     a = [i for i in range(10000000)]\n",
    "#     show_memory_info('after a created')\n",
    "\n",
    "def func():\n",
    "    show_memory_info('initial')\n",
    "    a = [i for i in range(10000000)]\n",
    "    show_memory_info('after a created')\n",
    "    return a  #返回a，实际是多了引用，所以不会被销毁，内存不会释放\n",
    "\n",
    "func()\n",
    "show_memory_info('finished')"
   ]
  },
  {
   "cell_type": "code",
   "execution_count": null,
   "metadata": {},
   "outputs": [],
   "source": [
    "#可视化引用关系\n",
    "import objgraph\n",
    "\n",
    "a = [1,2,3]\n",
    "b = [4,5,6]\n",
    "\n",
    "a.append(b)\n",
    "b.append(a)\n",
    "\n",
    "# objgraph.show_refs([a])\n",
    "objgraph.show_backrefs([a])"
   ]
  },
  {
   "cell_type": "code",
   "execution_count": null,
   "metadata": {},
   "outputs": [],
   "source": [
    "'''\n",
    "    1.pdb  \n",
    "        命令行调试工具\n",
    "    2.cProfile  \n",
    "        测试代码中模块运行时间，调用次数\n",
    "    3.unittest  \n",
    "        单元测试，测试代码中模块输出是否符合预期\n",
    "    4.上下文管理  \n",
    "        with语句,基于类的上下文管理\n",
    "        基于python装饰器contextlib.contextmanager的上下文管理\n",
    "    5.assert\n",
    "        条件检查\n",
    "        可通过-o在全局disabled\n",
    "    6.代码规范\n",
    "        PEP8,GOOGLE STYLE\n",
    "    \n",
    "'''"
   ]
  },
  {
   "cell_type": "code",
   "execution_count": 1,
   "metadata": {},
   "outputs": [
    {
     "name": "stdout",
     "output_type": "stream",
     "text": [
      "                     Symbol      Open      High       Low     Close     Volume\n",
      "Date                                                                          \n",
      "2019-07-08 00:00:00  BTCUSD  11475.07  11540.33  11469.53  11506.43  10.770731\n",
      "2019-07-07 23:00:00  BTCUSD  11423.00  11482.72  11423.00  11475.07  32.996559\n",
      "2019-07-07 22:00:00  BTCUSD  11526.25  11572.74  11333.59  11423.00  48.937730\n",
      "2019-07-07 21:00:00  BTCUSD  11515.80  11562.65  11478.20  11526.25  25.323908\n",
      "2019-07-07 20:00:00  BTCUSD  11547.98  11624.88  11423.94  11515.80  63.211972\n"
     ]
    }
   ],
   "source": [
    "# pandas处理数据\n",
    "\n",
    "import os\n",
    "import pandas as pd\n",
    "\n",
    "# 判断文件存不存在\n",
    "def alert_message(condition,msg):\n",
    "    if not condition:\n",
    "        raise Exception(msg)\n",
    "\n",
    "def read_file(filepath):\n",
    "    # 判断文件存不存在\n",
    "    alert_message(os.path.exists(filepath),'文件不存在或路径不正确')\n",
    "\n",
    "    return pd.read_csv(filepath, \n",
    "                       index_col = 0,\n",
    "                       parse_dates = True,\n",
    "                       infer_datetime_format = True)\n",
    "\n",
    "bu = read_file(r'D:\\pyworkspace\\testtxt\\bg.txt')\n",
    "alert_message(bu.__len__() > 0,'读取失败')\n",
    "print(bu.head())"
   ]
  },
  {
   "cell_type": "code",
   "execution_count": 15,
   "metadata": {},
   "outputs": [
    {
     "name": "stdout",
     "output_type": "stream",
     "text": [
      "<osgeo.gdal.Band; proxy of <Swig Object of type 'GDALRasterBandShadow *' at 0x00000181112E3F90> >\n"
     ]
    }
   ],
   "source": [
    "from osgeo import gdal,ogr\n",
    "\n",
    "# 打开影像\n",
    "ds = gdal.Open(r'D:\\yyktest\\yyk10cmyyk.tif')\n",
    "\n",
    "# 影像行列数，波段数\n",
    "rows = ds.RasterYSize\n",
    "cols = ds.RasterXSize\n",
    "bands = ds.RasterCount\n",
    "\n",
    "# 坐标变化六元素，左上角x，y坐标[0,3]，x,y方向旋转角度和比例尺\n",
    "coord_list = ds.GetGeoTransform()\n",
    "\n",
    "# 坐标信息\n",
    "projection = ds.GetProjection()\n",
    "\n",
    "# 波段对象\n",
    "fst_band = ds.GetRasterBand(1)\n",
    "sec_band = ds.GetRasterBand(2)\n",
    "thr_band = ds.GetRasterBand(3)\n",
    "\n",
    "# 获取波段对象的最小值，最大值（value）\n",
    "fst_min = fst_band.GetMinimum()\n",
    "fst_max = fst_band.GetMaximum()\n",
    "\n",
    "print(fst_band)\n",
    "\n"
   ]
  },
  {
   "cell_type": "code",
   "execution_count": 1,
   "metadata": {},
   "outputs": [
    {
     "name": "stdout",
     "output_type": "stream",
     "text": [
      "0). POINT (1181866.26359305 615654.42225077)\n",
      "1). POINT (1205917.12074996 623979.718958931)\n",
      "2). POINT (1227192.87900415 643405.411277973)\n",
      "3). POINT (1224880.29658521 665143.686015948)\n"
     ]
    }
   ],
   "source": [
    "from osgeo import ogr\n",
    "\n",
    "wkt = \"MULTIPOINT (1181866.263593049 615654.4222507705, 1205917.1207499576 623979.7189589312, 1227192.8790041457 643405.4112779726, 1224880.2965852122 665143.6860159477)\"\n",
    "geom = ogr.CreateGeometryFromWkt(wkt)\n",
    "for i in range(0, geom.GetGeometryCount()):\n",
    "    g = geom.GetGeometryRef(i)\n",
    "    print(\"%i). %s\" %(i, g.ExportToWkt()))"
   ]
  },
  {
   "cell_type": "code",
   "execution_count": 2,
   "metadata": {},
   "outputs": [
    {
     "name": "stdout",
     "output_type": "stream",
     "text": [
      "0). POINT (1181866 615654)\n",
      "1). POINT (1205917 623979)\n",
      "2). POINT (1227192 643405)\n",
      "3). POINT (1224880 665143)\n"
     ]
    }
   ],
   "source": [
    "from osgeo import ogr\n",
    "\n",
    "wkt = \"LINESTRING (1181866.263593049 615654.4222507705, 1205917.1207499576 623979.7189589312, 1227192.8790041457 643405.4112779726, 1224880.2965852122 665143.6860159477)\"\n",
    "geom = ogr.CreateGeometryFromWkt(wkt)\n",
    "for i in range(0, geom.GetPointCount()):\n",
    "    # GetPoint 返回一个元组不是一个Geometry\n",
    "    pt = geom.GetPoint(i)\n",
    "    print(\"%i). POINT (%d %d)\" %(i, pt[0], pt[1]))"
   ]
  },
  {
   "cell_type": "code",
   "execution_count": 3,
   "metadata": {},
   "outputs": [
    {
     "name": "stdout",
     "output_type": "stream",
     "text": [
      "Area = 820175022\n"
     ]
    }
   ],
   "source": [
    "from osgeo import ogr\n",
    "\n",
    "wkt = \"POLYGON ((1162440.5712740074 672081.4332727483, 1162440.5712740074 647105.5431482664, 1195279.2416228633 647105.5431482664, 1195279.2416228633 672081.4332727483, 1162440.5712740074 672081.4332727483))\"\n",
    "poly = ogr.CreateGeometryFromWkt(wkt)\n",
    "print(\"Area = %d\" % poly.GetArea())"
   ]
  },
  {
   "cell_type": "code",
   "execution_count": 4,
   "metadata": {},
   "outputs": [
    {
     "name": "stdout",
     "output_type": "stream",
     "text": [
      "打开 D:\\yyktest\\地.shp\n",
      "地.shp 要素个数: 5\n"
     ]
    }
   ],
   "source": [
    "import os\n",
    "from osgeo import ogr\n",
    "\n",
    "daShapefile = r\"D:\\yyktest\\地.shp\"\n",
    "\n",
    "driver = ogr.GetDriverByName('ESRI Shapefile')\n",
    "\n",
    "dataSource = driver.Open(daShapefile, 0) # 0 只读. 1 读写.\n",
    "\n",
    "# 检查数据源是否有效.\n",
    "if dataSource is None:\n",
    "    print ('不能打开 %s' % (daShapefile))\n",
    "else:\n",
    "    print ('打开 %s' % (daShapefile))\n",
    "    layer = dataSource.GetLayer()\n",
    "    featureCount = layer.GetFeatureCount()\n",
    "    print (\"%s 要素个数: %d\" % (os.path.basename(daShapefile),featureCount))"
   ]
  },
  {
   "cell_type": "code",
   "execution_count": 3,
   "metadata": {},
   "outputs": [
    {
     "name": "stdout",
     "output_type": "stream",
     "text": [
      "0.VRT: Virtual Raster\n",
      "1.DERIVED: Derived datasets using VRT pixel functions\n",
      "2.GTiff: GeoTIFF\n",
      "3.COG: Cloud optimized GeoTIFF generator\n",
      "4.NITF: National Imagery Transmission Format\n",
      "5.RPFTOC: Raster Product Format TOC format\n",
      "6.ECRGTOC: ECRG TOC format\n",
      "7.HFA: Erdas Imagine Images (.img)\n",
      "8.SAR_CEOS: CEOS SAR Image\n",
      "9.CEOS: CEOS Image\n",
      "10.JAXAPALSAR: JAXA PALSAR Product Reader (Level 1.1/1.5)\n",
      "11.GFF: Ground-based SAR Applications Testbed File Format (.gff)\n",
      "12.ELAS: ELAS\n",
      "13.ESRIC: Esri Compact Cache\n",
      "14.AIG: Arc/Info Binary Grid\n",
      "15.AAIGrid: Arc/Info ASCII Grid\n",
      "16.GRASSASCIIGrid: GRASS ASCII Grid\n",
      "17.ISG: International Service for the Geoid\n",
      "18.SDTS: SDTS Raster\n",
      "19.DTED: DTED Elevation Raster\n",
      "20.PNG: Portable Network Graphics\n",
      "21.DDS: DirectDraw Surface\n",
      "22.JPEG: JPEG JFIF\n",
      "23.MEM: In Memory Raster\n",
      "24.JDEM: Japanese DEM (.mem)\n",
      "25.GIF: Graphics Interchange Format (.gif)\n",
      "26.BIGGIF: Graphics Interchange Format (.gif)\n",
      "27.ESAT: Envisat Image Format\n",
      "28.FITS: Flexible Image Transport System\n",
      "29.BSB: Maptech BSB Nautical Charts\n",
      "30.XPM: X11 PixMap Format\n",
      "31.BMP: MS Windows Device Independent Bitmap\n",
      "32.DIMAP: SPOT DIMAP\n",
      "33.AirSAR: AirSAR Polarimetric Image\n",
      "34.RS2: RadarSat 2 XML Product\n",
      "35.SAFE: Sentinel-1 SAR SAFE Product\n",
      "36.PCIDSK: PCIDSK Database File\n",
      "37.PCRaster: PCRaster Raster File\n",
      "38.ILWIS: ILWIS Raster Map\n",
      "39.SGI: SGI Image File Format 1.0\n",
      "40.SRTMHGT: SRTMHGT File Format\n",
      "41.Leveller: Leveller heightfield\n",
      "42.Terragen: Terragen heightfield\n",
      "43.GMT: GMT NetCDF Grid Format\n",
      "44.netCDF: Network Common Data Format\n",
      "45.HDF4: Hierarchical Data Format Release 4\n",
      "46.HDF4Image: HDF4 Dataset\n",
      "47.ISIS3: USGS Astrogeology ISIS cube (Version 3)\n",
      "48.ISIS2: USGS Astrogeology ISIS cube (Version 2)\n",
      "49.PDS: NASA Planetary Data System\n",
      "50.PDS4: NASA Planetary Data System 4\n",
      "51.VICAR: MIPL VICAR file\n",
      "52.TIL: EarthWatch .TIL\n",
      "53.ERS: ERMapper .ers Labelled\n",
      "54.JP2OpenJPEG: JPEG-2000 driver based on OpenJPEG library\n",
      "55.L1B: NOAA Polar Orbiter Level 1b Data Set\n",
      "56.FIT: FIT Image\n",
      "57.GRIB: GRIdded Binary (.grb, .grb2)\n",
      "58.JPEG2000: JPEG-2000 part 1 (ISO/IEC 15444-1), based on Jasper library\n",
      "59.RMF: Raster Matrix Format\n",
      "60.WCS: OGC Web Coverage Service\n",
      "61.WMS: OGC Web Map Service\n",
      "62.MSGN: EUMETSAT Archive native (.nat)\n",
      "63.RST: Idrisi Raster A.1\n",
      "64.INGR: Intergraph Raster\n",
      "65.GSAG: Golden Software ASCII Grid (.grd)\n",
      "66.GSBG: Golden Software Binary Grid (.grd)\n",
      "67.GS7BG: Golden Software 7 Binary Grid (.grd)\n",
      "68.COSAR: COSAR Annotated Binary Matrix (TerraSAR-X)\n",
      "69.TSX: TerraSAR-X Product\n",
      "70.COASP: DRDC COASP SAR Processor Raster\n",
      "71.R: R Object Data Store\n",
      "72.MAP: OziExplorer .MAP\n",
      "73.KMLSUPEROVERLAY: Kml Super Overlay\n",
      "74.WEBP: WEBP\n",
      "75.PDF: Geospatial PDF\n",
      "76.Rasterlite: Rasterlite\n",
      "77.MBTiles: MBTiles\n",
      "78.PLMOSAIC: Planet Labs Mosaics API\n",
      "79.CALS: CALS (Type 1)\n",
      "80.WMTS: OGC Web Map Tile Service\n",
      "81.SENTINEL2: Sentinel 2\n",
      "82.MRF: Meta Raster Format\n",
      "83.PNM: Portable Pixmap Format (netpbm)\n",
      "84.DOQ1: USGS DOQ (Old Style)\n",
      "85.DOQ2: USGS DOQ (New Style)\n",
      "86.PAux: PCI .aux Labelled\n",
      "87.MFF: Vexcel MFF Raster\n",
      "88.MFF2: Vexcel MFF2 (HKV) Raster\n",
      "89.FujiBAS: Fuji BAS Scanner Image\n",
      "90.GSC: GSC Geogrid\n",
      "91.FAST: EOSAT FAST Format\n",
      "92.BT: VTP .bt (Binary Terrain) 1.3 Format\n",
      "93.LAN: Erdas .LAN/.GIS\n",
      "94.CPG: Convair PolGASP\n",
      "95.IDA: Image Data and Analysis\n",
      "96.NDF: NLAPS Data Format\n",
      "97.EIR: Erdas Imagine Raw\n",
      "98.DIPEx: DIPEx\n",
      "99.LCP: FARSITE v.4 Landscape File (.lcp)\n",
      "100.GTX: NOAA Vertical Datum .GTX\n",
      "101.LOSLAS: NADCON .los/.las Datum Grid Shift\n",
      "102.NTv2: NTv2 Datum Grid Shift\n",
      "103.CTable2: CTable2 Datum Grid Shift\n",
      "104.ACE2: ACE2\n",
      "105.SNODAS: Snow Data Assimilation System\n",
      "106.KRO: KOLOR Raw\n",
      "107.ROI_PAC: ROI_PAC raster\n",
      "108.RRASTER: R Raster\n",
      "109.BYN: Natural Resources Canada's Geoid\n",
      "110.ARG: Azavea Raster Grid format\n",
      "111.RIK: Swedish Grid RIK (.rik)\n",
      "112.USGSDEM: USGS Optional ASCII DEM (and CDED)\n",
      "113.GXF: GeoSoft Grid Exchange Format\n",
      "114.BAG: Bathymetry Attributed Grid\n",
      "115.HDF5: Hierarchical Data Format Release 5\n",
      "116.HDF5Image: HDF5 Dataset\n",
      "117.NWT_GRD: Northwood Numeric Grid Format .grd/.tab\n",
      "118.NWT_GRC: Northwood Classified Grid Format .grc/.tab\n",
      "119.ADRG: ARC Digitized Raster Graphics\n",
      "120.SRP: Standard Raster Product (ASRP/USRP)\n",
      "121.BLX: Magellan topo (.blx)\n",
      "122.PostGISRaster: PostGIS Raster driver\n",
      "123.SAGA: SAGA GIS Binary Grid (.sdat, .sg-grd-z)\n",
      "124.XYZ: ASCII Gridded XYZ\n",
      "125.HF2: HF2/HFZ heightfield raster\n",
      "126.JPEGLS: JPEGLS\n",
      "127.OZI: OziExplorer Image File\n",
      "128.CTG: USGS LULC Composite Theme Grid\n",
      "129.ZMap: ZMap Plus Grid\n",
      "130.NGSGEOID: NOAA NGS Geoid Height Grids\n",
      "131.IRIS: IRIS data (.PPI, .CAPPi etc)\n",
      "132.PRF: Racurs PHOTOMOD PRF\n",
      "133.RDA: DigitalGlobe Raster Data Access driver\n",
      "134.EEDAI: Earth Engine Data API Image\n",
      "135.EEDA: Earth Engine Data API\n",
      "136.DAAS: Airbus DS Intelligence Data As A Service driver\n",
      "137.SIGDEM: Scaled Integer Gridded DEM .sigdem\n",
      "138.EXR: Extended Dynamic Range Image File Format\n",
      "139.TGA: TGA/TARGA Image File Format\n",
      "140.OGCAPI: OGCAPI\n",
      "141.STACTA: Spatio-Temporal Asset Catalog Tiled Assets\n",
      "142.STACIT: Spatio-Temporal Asset Catalog Items\n",
      "143.GNMFile: Geographic Network generic file based model\n",
      "144.GNMDatabase: Geographic Network generic DB based model\n",
      "145.DB2ODBC: IBM DB2 Spatial Database\n",
      "146.ESRI Shapefile: ESRI Shapefile\n",
      "147.MapInfo File: MapInfo File\n",
      "148.UK .NTF: UK .NTF\n",
      "149.LVBAG: Kadaster LV BAG Extract 2.0\n",
      "150.OGR_SDTS: SDTS\n",
      "151.S57: IHO S-57 (ENC)\n",
      "152.DGN: Microstation DGN\n",
      "153.OGR_VRT: VRT - Virtual Datasource\n",
      "154.REC: EPIInfo .REC \n",
      "155.Memory: Memory\n",
      "156.CSV: Comma Separated Value (.csv)\n",
      "157.GML: Geography Markup Language (GML)\n",
      "158.GPX: GPX\n",
      "159.LIBKML: Keyhole Markup Language (LIBKML)\n",
      "160.KML: Keyhole Markup Language (KML)\n",
      "161.GeoJSON: GeoJSON\n",
      "162.GeoJSONSeq: GeoJSON Sequence\n",
      "163.ESRIJSON: ESRIJSON\n",
      "164.TopoJSON: TopoJSON\n",
      "165.OGR_GMT: GMT ASCII Vectors (.gmt)\n",
      "166.GPKG: GeoPackage\n",
      "167.SQLite: SQLite / Spatialite\n",
      "168.ODBC: \n",
      "169.WAsP: WAsP .map format\n",
      "170.PGeo: ESRI Personal GeoDatabase\n",
      "171.MSSQLSpatial: Microsoft SQL Server Spatial Database\n",
      "172.PostgreSQL: PostgreSQL/PostGIS\n",
      "173.OpenFileGDB: ESRI FileGDB\n",
      "174.DXF: AutoCAD DXF\n",
      "175.CAD: AutoCAD Driver\n",
      "176.FlatGeobuf: FlatGeobuf\n",
      "177.Geoconcept: Geoconcept\n",
      "178.GeoRSS: GeoRSS\n",
      "179.GPSTrackMaker: GPSTrackMaker\n",
      "180.VFK: Czech Cadastral Exchange Data Format\n",
      "181.PGDUMP: PostgreSQL SQL dump\n",
      "182.OSM: OpenStreetMap XML and PBF\n",
      "183.GPSBabel: GPSBabel\n",
      "184.OGR_PDS: Planetary Data Systems TABLE\n",
      "185.WFS: OGC WFS (Web Feature Service)\n",
      "186.OAPIF: OGC API - Features\n",
      "187.Geomedia: Geomedia .mdb\n",
      "188.EDIGEO: French EDIGEO exchange format\n",
      "189.SVG: Scalable Vector Graphics\n",
      "190.CouchDB: CouchDB / GeoCouch\n",
      "191.Cloudant: Cloudant / CouchDB\n",
      "192.Idrisi: Idrisi Vector (.vct)\n",
      "193.ARCGEN: Arc/Info Generate\n",
      "194.XLS: MS Excel format\n",
      "195.ODS: Open Document/ LibreOffice / OpenOffice Spreadsheet \n",
      "196.XLSX: MS Office Open XML spreadsheet\n",
      "197.Elasticsearch: Elastic Search\n",
      "198.Walk: \n",
      "199.Carto: Carto\n",
      "200.AmigoCloud: AmigoCloud\n",
      "201.SXF: Storage and eXchange Format\n",
      "202.Selafin: Selafin\n",
      "203.JML: OpenJUMP JML\n",
      "204.PLSCENES: Planet Labs Scenes API\n",
      "205.CSW: OGC CSW (Catalog  Service for the Web)\n",
      "206.VDV: VDV-451/VDV-452/INTREST Data Format\n",
      "207.MVT: Mapbox Vector Tiles\n",
      "208.NGW: NextGIS Web\n",
      "209.MapML: MapML\n",
      "210.TIGER: U.S. Census TIGER/Line\n",
      "211.AVCBin: Arc/Info Binary Coverage\n",
      "212.AVCE00: Arc/Info E00 (ASCII) Coverage\n",
      "213.GenBin: Generic Binary (.hdr Labelled)\n",
      "214.ENVI: ENVI .hdr Labelled\n",
      "215.EHdr: ESRI .hdr Labelled\n",
      "216.ISCE: ISCE raster\n",
      "217.Zarr: Zarr\n",
      "218.HTTP: HTTP Fetching Wrapper\n"
     ]
    }
   ],
   "source": [
    "# 获取gdal的驱动列表\n",
    "from osgeo import gdal\n",
    "import numpy as np\n",
    "\n",
    "drv_count = gdal.GetDriverCount()\n",
    "for idx in range(drv_count):\n",
    "    driver = gdal.GetDriver(idx)\n",
    "    print( \"%d.%s: %s\" % (idx,driver.ShortName, driver.LongName))"
   ]
  },
  {
   "cell_type": "code",
   "execution_count": 13,
   "metadata": {},
   "outputs": [
    {
     "name": "stdout",
     "output_type": "stream",
     "text": [
      "<osgeo.gdal.Driver; proxy of <Swig Object of type 'GDALDriverShadow *' at 0x000001FCDAEFBF30> >\n"
     ]
    }
   ],
   "source": [
    "# rigster driver\n",
    "from osgeo import gdal,ogr\n",
    "\n",
    "driver = gdal.GetDriverByName('GTiff')\n",
    "# return the order of driver in the driver list(0,218)\n",
    "driver.Register()"
   ]
  },
  {
   "cell_type": "code",
   "execution_count": 42,
   "metadata": {},
   "outputs": [
    {
     "data": {
      "image/png": "[encoded data removed]",
      "text/plain": [
       "<Figure size 432x288 with 1 Axes>"
      ]
     },
     "metadata": {
      "needs_background": "light"
     },
     "output_type": "display_data"
    }
   ],
   "source": [
    "#check basic info of grid\n",
    "from osgeo import  gdal\n",
    "import numpy as np\n",
    "import matplotlib.pyplot as plt\n",
    "\n",
    "dataset = gdal.Open(r'D:\\yyktest\\yyk10cmyyk.tif')\n",
    "# check attr of dataset\n",
    "dataset_func = dir(dataset)\n",
    "# 获取栅格描述信息\n",
    "desc = dataset.GetDescription\n",
    "# 获取栅格波段数\n",
    "raster_count = dataset.RasterCount\n",
    "# 获取栅格宽度\n",
    "width = dataset.RasterXSize\n",
    "# 获取栅格高度\n",
    "height = dataset.RasterYSize\n",
    "# 获取栅格6参数\n",
    "trans_form = dataset.GetGeoTransform()\n",
    "#获取栅格投影信息\n",
    "proj = dataset.GetProjection()\n",
    "#获取栅格元信息\n",
    "metadata = dataset.GetMetadata()\n",
    "\n",
    "# 获取第一波段句柄\n",
    "band = dataset.GetRasterBand(1)\n",
    "# 获取第一波段宽高\n",
    "band_x = band.XSize\n",
    "band_y = band.YSize\n",
    "data_type = band.DataType\n",
    "\n",
    "# 获取nodata，最大值，最小值\n",
    "nodata = band.GetNoDataValue()\n",
    "max_value = band.GetMaximum()\n",
    "min_value = band.GetMinimum()"
   ]
  },
  {
   "cell_type": "code",
   "execution_count": 60,
   "metadata": {},
   "outputs": [
    {
     "name": "stdout",
     "output_type": "stream",
     "text": [
      "[[ 71  71  71 ... 121 122 122]\n",
      " [ 70  71  71 ... 121 122 122]\n",
      " [ 70  70  71 ... 121 122 122]\n",
      " ...\n",
      " [ 75  77  78 ...  26  27  27]\n",
      " [ 77  79  80 ...  28  28  29]\n",
      " [ 79  80  81 ...  30  31  31]]\n"
     ]
    },
    {
     "data": {
      "image/png": "[encoded data removed]",
      "text/plain": [
       "<Figure size 432x288 with 1 Axes>"
      ]
     },
     "metadata": {
      "needs_background": "light"
     },
     "output_type": "display_data"
    }
   ],
   "source": [
    "\"\"\"\n",
    "ReadAsArray(xoff=0, yoff=0, xsize=None, ysize=None, buf_obj=None, buf_xsize=None, buf_ysize=None, buf_type=None, resample_alg=0, callback=None, callback_data=None, interleave='band') method of osgeo.gdal.Dataset instance\n",
    "    Reading a chunk of a GDAL band into a numpy array. The optional (buf_xsize,buf_ysize,buf_type)\n",
    "    parameters should generally not be specified if buf_obj is specified. The array is returned\n",
    "\n",
    "xoff,yoff ：指定想要读取的部分原点位置在整张图像中距离全图原点(左上角)的位置(以像元为单位）。\n",
    "xsize,ysize ： 指定要读取部分图像的矩形的长和宽（以像元为单位）。\n",
    "buf_xsize，buf_ysize ：可以在读取出一部分图像后进行缩放。那么就用这两个参数来定义缩放后图像最终的宽和高，gdal将帮你缩放到这个大小。\n",
    "buf_type ：可以对读出的数据的类型进行转换（比如原图数据类型是short，你要把它们缩小成byte）。\n",
    "band_list ：适应多波段的情况。可以指定要读取的波段。\n",
    "\"\"\"\n",
    "\n",
    "from osgeo import gdal,ogr\n",
    "import numpy as np\n",
    "import matplotlib.pyplot as plt\n",
    "\n",
    "dataset = gdal.Open(r'D:\\yyktest\\yyk10cmyyk.tif')\n",
    "band = dataset.GetRasterBand(1)\n",
    "band_array = band.ReadAsArray(100,100,1000,1000)\n",
    "print(band_array)\n",
    "plt.imshow(band_array)\n",
    "plt.show()\n"
   ]
  },
  {
   "cell_type": "code",
   "execution_count": 24,
   "metadata": {},
   "outputs": [
    {
     "name": "stderr",
     "output_type": "stream",
     "text": [
      "C:\\Users\\18292\\AppData\\Local\\Temp/ipykernel_29852/3324237729.py:21: RuntimeWarning: invalid value encountered in divide\n",
      "  ndvi = np.choose(mask, (-99, (data3 - data2) / (data3 + data2)))\n"
     ]
    },
    {
     "data": {
      "image/png": "[encoded data removed]",
      "text/plain": [
       "<Figure size 432x288 with 1 Axes>"
      ]
     },
     "metadata": {
      "needs_background": "light"
     },
     "output_type": "display_data"
    },
    {
     "name": "stdout",
     "output_type": "stream",
     "text": [
      "[[-99. -99. -99. ... -99. -99. -99.]\n",
      " [-99. -99. -99. ... -99. -99. -99.]\n",
      " [-99. -99. -99. ... -99. -99. -99.]\n",
      " ...\n",
      " [-99. -99. -99. ... -99. -99. -99.]\n",
      " [-99. -99. -99. ... -99. -99. -99.]\n",
      " [-99. -99. -99. ... -99. -99. -99.]]\n"
     ]
    }
   ],
   "source": [
    "from osgeo import gdal,ogr\n",
    "import numpy as np\n",
    "import matplotlib.pyplot as plt\n",
    "\n",
    "dataset = gdal.Open(r'C:\\Users\\18292\\Desktop\\新建文件夹\\five43.tif')\n",
    "\n",
    "band2 = dataset.GetRasterBand(2)\n",
    "band3 = dataset.GetRasterBand(3)\n",
    "cols = 100\n",
    "rows = 100\n",
    "\n",
    "# band3_array = band3.ReadAsArray(5000,5000,3000,3000)\n",
    "# band2_array = band2.ReadAsArray(5000,5000,3000,3000)\n",
    "# plt.imshow(band2_array)\n",
    "# plt.show()\n",
    "# plt.imshow(band3_array)\n",
    "# plt.show()\n",
    "data2 = band2.ReadAsArray(0, 0, cols,rows).astype(np.float16)\n",
    "data3 = band3.ReadAsArray(0, 0, cols,rows).astype(np.float16)\n",
    "mask = np.greater(data3+data2,0)\n",
    "ndvi = np.choose(mask, (-99, (data3 - data2) / (data3 + data2)))\n",
    "plt.imshow(ndvi,aspect='auto')\n",
    "plt.show()\n",
    "print(ndvi)"
   ]
  },
  {
   "cell_type": "code",
   "execution_count": 3,
   "metadata": {},
   "outputs": [
    {
     "data": {
      "image/png": "[encoded data removed]",
      "text/plain": [
       "<Figure size 432x288 with 1 Axes>"
      ]
     },
     "metadata": {
      "needs_background": "light"
     },
     "output_type": "display_data"
    },
    {
     "name": "stdout",
     "output_type": "stream",
     "text": [
      "[[0 0 0 ... 0 0 0]\n",
      " [0 0 0 ... 0 0 0]\n",
      " [0 0 0 ... 0 0 0]\n",
      " ...\n",
      " [0 0 0 ... 0 0 0]\n",
      " [0 0 0 ... 0 0 0]\n",
      " [0 0 0 ... 0 0 0]]\n"
     ]
    }
   ],
   "source": [
    "# 创建影像\n",
    "from osgeo import gdal\n",
    "import matplotlib.pyplot as plt\n",
    "driver = gdal.GetDriverByName('GTiff')\n",
    "dst_filename = r'C:\\Users\\18292\\Desktop\\新建文件夹\\newtif.tif'\n",
    "dst_ds = driver.Create(dst_filename,512,512,1,gdal.GDT_Byte)\n",
    "dst_ds_array = dst_ds.ReadAsArray()\n",
    "plt.imshow(dst_ds_array)\n",
    "plt.show()"
   ]
  },
  {
   "cell_type": "code",
   "execution_count": 14,
   "metadata": {},
   "outputs": [
    {
     "name": "stdout",
     "output_type": "stream",
     "text": [
      "[[[255   0   0]\n",
      "  [255   0   0]\n",
      "  [  0   0   0]\n",
      "  ...\n",
      "  [  0   0   0]\n",
      "  [  0   0   0]\n",
      "  [  0   0   0]]\n",
      "\n",
      " [[255   0   0]\n",
      "  [  0   0   0]\n",
      "  [  0 255   0]\n",
      "  ...\n",
      "  [ 23  28  34]\n",
      "  [ 23  28  34]\n",
      "  [ 24  29  35]]\n",
      "\n",
      " [[  0   0   0]\n",
      "  [  0 255   0]\n",
      "  [  0 255   0]\n",
      "  ...\n",
      "  [ 24  29  35]\n",
      "  [ 24  29  35]\n",
      "  [ 25  30  36]]\n",
      "\n",
      " ...\n",
      "\n",
      " [[  0   0   0]\n",
      "  [ 10  17  23]\n",
      "  [  9  16  22]\n",
      "  ...\n",
      "  [ 73  76  69]\n",
      "  [ 73  76  69]\n",
      "  [ 73  76  70]]\n",
      "\n",
      " [[  0   0   0]\n",
      "  [ 10  17  23]\n",
      "  [  9  16  22]\n",
      "  ...\n",
      "  [ 75  78  70]\n",
      "  [ 75  78  71]\n",
      "  [ 75  78  71]]\n",
      "\n",
      " [[  0   0   0]\n",
      "  [  9  17  23]\n",
      "  [  8  16  22]\n",
      "  ...\n",
      "  [ 77  80  72]\n",
      "  [ 77  80  72]\n",
      "  [ 77  80  73]]]\n"
     ]
    },
    {
     "data": {
      "image/png": "[encoded data removed]",
      "text/plain": [
       "<Figure size 432x288 with 1 Axes>"
      ]
     },
     "metadata": {
      "needs_background": "light"
     },
     "output_type": "display_data"
    }
   ],
   "source": [
    "# 创建多波段影像\n",
    "from osgeo import gdal\n",
    "import matplotlib.pyplot as plt\n",
    "\n",
    "# 打开已存在影像，获取宽、高和二维数组\n",
    "dataset = gdal.Open(r'D:\\yyktest\\yyk10cmyyk.tif')\n",
    "width = dataset.RasterXSize\n",
    "height = dataset.RasterYSize\n",
    "datas = dataset.ReadAsArray(0,0,width,height)\n",
    "\n",
    "# 声明句柄\n",
    "driver = gdal.GetDriverByName('GTiff')\n",
    "# 创建空影像\n",
    "tods = driver.Create(r'C:\\Users\\18292\\Desktop\\新建文件夹\\new.tif',width,height,3,options=[\"INTERLEAVE=PIXEL\"])\n",
    "# 写入内容\n",
    "tods.WriteRaster(0,0,width,height,datas.tobytes(),width,height,band_list=[1,2,3])\n",
    "\n",
    "tods_array = tods.ReadAsArray(0,0,500,400)\n",
    "print(tods_array.T) # 数组转置，转置后第三个为颜色通道的个数\n",
    "plt.imshow(tods_array.T)\n",
    "plt.show()"
   ]
  },
  {
   "cell_type": "code",
   "execution_count": 11,
   "metadata": {},
   "outputs": [
    {
     "name": "stdout",
     "output_type": "stream",
     "text": [
      "<class 'rasterio.io.DatasetReader'>\n",
      "D:/yyktest/yyk10cmyyk.tif\n",
      "r\n",
      "False\n",
      "3\n",
      "35031\n",
      "29975\n",
      "{1: 'uint8', 2: 'uint8', 3: 'uint8'}\n",
      "BoundingBox(left=12138014.455259155, bottom=4006394.584156421, right=12141517.555259155, top=4009392.084156421)\n",
      "EPSG:3395\n",
      "(1, 2, 3)\n",
      "[[255 255   0 ...   0   0   0]\n",
      " [255   0   0 ...  71  72  72]\n",
      " [  0   0   0 ...  72  73  74]\n",
      " ...\n",
      " [  0  17  20 ...  39  40  41]\n",
      " [  0  19  21 ...  41  41  42]\n",
      " [  0  20  23 ...  42  42  43]]\n",
      "14987 17515\n"
     ]
    }
   ],
   "source": [
    "import rasterio\n",
    "\n",
    "dataset = rasterio.open(r'D:\\yyktest\\yyk10cmyyk.tif')\n",
    "print(type(dataset))\n",
    "print(dataset.name)\n",
    "print(dataset.mode)\n",
    "print(dataset.closed)\n",
    "print(dataset.count)\n",
    "print(dataset.width)  # 35031pt\n",
    "print(dataset.height)  #  29975pt\n",
    "print({i:dtype for i , dtype in zip(dataset.indexes,dataset.dtypes)})\n",
    "print(dataset.bounds)  #3503m,2998m\n",
    "print(dataset.crs)\n",
    "print(dataset.indexes)\n",
    "band1 = dataset.read(1)\n",
    "print(band1)\n",
    "print(dataset.height // 2,dataset.width // 2)\n"
   ]
  },
  {
   "cell_type": "code",
   "execution_count": 13,
   "metadata": {},
   "outputs": [
    {
     "ename": "RasterioIOError",
     "evalue": "Attempt to create new tiff file 'D:/yyktest ew.tif' failed: No error",
     "output_type": "error",
     "traceback": [
      "\u001b[1;31m---------------------------------------------------------------------------\u001b[0m",
      "\u001b[1;31mCPLE_OpenFailedError\u001b[0m                      Traceback (most recent call last)",
      "\u001b[1;32mrasterio\\_io.pyx\u001b[0m in \u001b[0;36mrasterio._io.DatasetWriterBase.__init__\u001b[1;34m()\u001b[0m\n",
      "\u001b[1;32mrasterio\\_err.pyx\u001b[0m in \u001b[0;36mrasterio._err.exc_wrap_pointer\u001b[1;34m()\u001b[0m\n",
      "\u001b[1;31mCPLE_OpenFailedError\u001b[0m: Attempt to create new tiff file 'D:/yyktest ew.tif' failed: No error",
      "\nDuring handling of the above exception, another exception occurred:\n",
      "\u001b[1;31mRasterioIOError\u001b[0m                           Traceback (most recent call last)",
      "\u001b[1;32m~\\AppData\\Local\\Temp/ipykernel_9152/1104659895.py\u001b[0m in \u001b[0;36m<module>\u001b[1;34m\u001b[0m\n\u001b[0;32m     12\u001b[0m \u001b[0mtransform\u001b[0m \u001b[1;33m=\u001b[0m \u001b[0mfrom_origin\u001b[0m\u001b[1;33m(\u001b[0m\u001b[0mx\u001b[0m\u001b[1;33m[\u001b[0m\u001b[1;36m0\u001b[0m\u001b[1;33m]\u001b[0m \u001b[1;33m-\u001b[0m \u001b[0mres\u001b[0m \u001b[1;33m/\u001b[0m \u001b[1;36m2\u001b[0m\u001b[1;33m,\u001b[0m \u001b[0my\u001b[0m\u001b[1;33m[\u001b[0m\u001b[1;33m-\u001b[0m\u001b[1;36m1\u001b[0m\u001b[1;33m]\u001b[0m \u001b[1;33m+\u001b[0m \u001b[0mres\u001b[0m \u001b[1;33m/\u001b[0m \u001b[1;36m2\u001b[0m\u001b[1;33m,\u001b[0m \u001b[0mres\u001b[0m\u001b[1;33m,\u001b[0m \u001b[0mres\u001b[0m\u001b[1;33m)\u001b[0m\u001b[1;33m\u001b[0m\u001b[1;33m\u001b[0m\u001b[0m\n\u001b[0;32m     13\u001b[0m \u001b[1;33m\u001b[0m\u001b[0m\n\u001b[1;32m---> 14\u001b[1;33m new_dataset = rasterio.open(\n\u001b[0m\u001b[0;32m     15\u001b[0m       \u001b[1;34m'D:\\yyktest\\new.tif'\u001b[0m\u001b[1;33m,\u001b[0m\u001b[1;33m\u001b[0m\u001b[1;33m\u001b[0m\u001b[0m\n\u001b[0;32m     16\u001b[0m       \u001b[1;34m'w'\u001b[0m\u001b[1;33m,\u001b[0m\u001b[1;33m\u001b[0m\u001b[1;33m\u001b[0m\u001b[0m\n",
      "\u001b[1;32md:\\python310\\lib\\site-packages\\rasterio\\env.py\u001b[0m in \u001b[0;36mwrapper\u001b[1;34m(*args, **kwds)\u001b[0m\n\u001b[0;32m    442\u001b[0m \u001b[1;33m\u001b[0m\u001b[0m\n\u001b[0;32m    443\u001b[0m         \u001b[1;32mwith\u001b[0m \u001b[0menv_ctor\u001b[0m\u001b[1;33m(\u001b[0m\u001b[0msession\u001b[0m\u001b[1;33m=\u001b[0m\u001b[0msession\u001b[0m\u001b[1;33m)\u001b[0m\u001b[1;33m:\u001b[0m\u001b[1;33m\u001b[0m\u001b[1;33m\u001b[0m\u001b[0m\n\u001b[1;32m--> 444\u001b[1;33m             \u001b[1;32mreturn\u001b[0m \u001b[0mf\u001b[0m\u001b[1;33m(\u001b[0m\u001b[1;33m*\u001b[0m\u001b[0margs\u001b[0m\u001b[1;33m,\u001b[0m \u001b[1;33m**\u001b[0m\u001b[0mkwds\u001b[0m\u001b[1;33m)\u001b[0m\u001b[1;33m\u001b[0m\u001b[1;33m\u001b[0m\u001b[0m\n\u001b[0m\u001b[0;32m    445\u001b[0m \u001b[1;33m\u001b[0m\u001b[0m\n\u001b[0;32m    446\u001b[0m     \u001b[1;32mreturn\u001b[0m \u001b[0mwrapper\u001b[0m\u001b[1;33m\u001b[0m\u001b[1;33m\u001b[0m\u001b[0m\n",
      "\u001b[1;32md:\\python310\\lib\\site-packages\\rasterio\\__init__.py\u001b[0m in \u001b[0;36mopen\u001b[1;34m(fp, mode, driver, width, height, count, crs, transform, dtype, nodata, sharing, **kwargs)\u001b[0m\n\u001b[0;32m    329\u001b[0m             \u001b[0mwriter\u001b[0m \u001b[1;33m=\u001b[0m \u001b[0mget_writer_for_driver\u001b[0m\u001b[1;33m(\u001b[0m\u001b[0mdriver\u001b[0m\u001b[1;33m)\u001b[0m\u001b[1;33m\u001b[0m\u001b[1;33m\u001b[0m\u001b[0m\n\u001b[0;32m    330\u001b[0m             \u001b[1;32mif\u001b[0m \u001b[0mwriter\u001b[0m \u001b[1;32mis\u001b[0m \u001b[1;32mnot\u001b[0m \u001b[1;32mNone\u001b[0m\u001b[1;33m:\u001b[0m\u001b[1;33m\u001b[0m\u001b[1;33m\u001b[0m\u001b[0m\n\u001b[1;32m--> 331\u001b[1;33m                 dataset = writer(\n\u001b[0m\u001b[0;32m    332\u001b[0m                     \u001b[0mpath\u001b[0m\u001b[1;33m,\u001b[0m\u001b[1;33m\u001b[0m\u001b[1;33m\u001b[0m\u001b[0m\n\u001b[0;32m    333\u001b[0m                     \u001b[0mmode\u001b[0m\u001b[1;33m,\u001b[0m\u001b[1;33m\u001b[0m\u001b[1;33m\u001b[0m\u001b[0m\n",
      "\u001b[1;32mrasterio\\_io.pyx\u001b[0m in \u001b[0;36mrasterio._io.DatasetWriterBase.__init__\u001b[1;34m()\u001b[0m\n",
      "\u001b[1;31mRasterioIOError\u001b[0m: Attempt to create new tiff file 'D:/yyktest ew.tif' failed: No error"
     ]
    }
   ],
   "source": [
    "import numpy as np\n",
    "import matplotlib.pyplot as plt\n",
    "x = np.linspace(-4.0, 4.0, 240)\n",
    "y = np.linspace(-3.0, 3.0, 180)\n",
    "X, Y = np.meshgrid(x, y)\n",
    "Z1 = np.exp(-2 * np.log(2) * ((X - 0.5) ** 2 + (Y - 0.5) ** 2) / 1 ** 2)\n",
    "Z2 = np.exp(-3 * np.log(2) * ((X + 0.5) ** 2 + (Y + 0.5) ** 2) / 2.5 ** 2)\n",
    "Z = 10.0 * (Z2 - Z1)\n",
    "\n",
    "from rasterio.transform import from_origin\n",
    "res = (x[-1] - x[0]) / 240.0\n",
    "transform = from_origin(x[0] - res / 2, y[-1] + res / 2, res, res)\n",
    "\n",
    "new_dataset = rasterio.open(\n",
    "      'D:\\yyktest\\new.tif',\n",
    "      'w',\n",
    "      driver='GTiff',\n",
    "      height=Z.shape[0],\n",
    "      width=Z.shape[1],\n",
    "      count=1,\n",
    "      dtype=Z.dtype,\n",
    "      crs='+proj=latlong',\n",
    "      transform=transform,\n",
    ")\n",
    "\n",
    "plt.imshow(new_dataset)\n",
    "plt.show()"
   ]
  }
 ],
 "metadata": {
  "kernelspec": {
   "display_name": "Python 3.10.1 64-bit",
   "language": "python",
   "name": "python3"
  },
  "language_info": {
   "codemirror_mode": {
    "name": "ipython",
    "version": 3
   },
   "file_extension": ".py",
   "mimetype": "text/x-python",
   "name": "python",
   "nbconvert_exporter": "python",
   "pygments_lexer": "ipython3",
   "version": "3.10.1"
  },
  "orig_nbformat": 4,
  "vscode": {
   "interpreter": {
    "hash": "478a92dbe663cce7c3fa41c61c54289e8c18324b2087979ba9b3d34363863902"
   }
  }
 },
 "nbformat": 4,
 "nbformat_minor": 2
}
