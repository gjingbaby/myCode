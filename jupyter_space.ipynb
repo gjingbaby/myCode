{
 "cells": [
  {
   "cell_type": "code",
   "execution_count": null,
   "metadata": {},
   "outputs": [],
   "source": [
    "a = (1,2,3)\n",
    "b = list(a)\n",
    "print(a,b)"
   ]
  },
  {
   "cell_type": "code",
   "execution_count": null,
   "metadata": {},
   "outputs": [],
   "source": [
    "c = list((1,2))\n",
    "print(c)"
   ]
  },
  {
   "cell_type": "code",
   "execution_count": null,
   "metadata": {},
   "outputs": [],
   "source": [
    "a = (1,2,3)\n",
    "b = a + (5,4)\n",
    "print(id(a),id(b))"
   ]
  },
  {
   "cell_type": "code",
   "execution_count": null,
   "metadata": {},
   "outputs": [],
   "source": [
    "a = [1,2,3]\n",
    "print(id(a))\n",
    "a.append([5,4])\n",
    "print(id(a))"
   ]
  },
  {
   "cell_type": "code",
   "execution_count": null,
   "metadata": {},
   "outputs": [],
   "source": [
    "a = [1,2]\n",
    "b = (1,2)"
   ]
  },
  {
   "cell_type": "code",
   "execution_count": null,
   "metadata": {},
   "outputs": [],
   "source": [
    "d1 = {'name':'jack','age':18,'gender':'male'}\n",
    "d2 = dict({'name':'jack','age':18,'gender':'male'})\n",
    "d3 = dict([('name','jack'),('age',18),('gender','male')])\n",
    "\n",
    "print(d1 == d2 == d3)"
   ]
  },
  {
   "cell_type": "code",
   "execution_count": null,
   "metadata": {},
   "outputs": [],
   "source": [
    "# s1 = set([1,2,3])\n",
    "# s2 = {1,2,3}\n",
    "# print(s1 == s2)\n",
    "\n",
    "#set  无序，意味着无法通过下标存取，唯一，意味着自动去重\n",
    "s = {'name',2,3,4,3,2,1,12}\n",
    "d1 = {'name':'jack','age':18,'gender':'male'}\n",
    "print(type(s),s)\n",
    "print(d1['name'])\n",
    "#print(s['name'])\n",
    "\n",
    "d2 = d1.get('age')\n",
    "d2 = d1.get('school') #返回none\n",
    "print(d2)\n"
   ]
  },
  {
   "cell_type": "code",
   "execution_count": null,
   "metadata": {},
   "outputs": [],
   "source": [
    "#判断元素是否在dict/set\n",
    "s = {'name',2,3,4,3,2,1,12}\n",
    "d1 = {'name':'jack','age':18,'gender':'male'}\n",
    "\n",
    "print('name' in s)\n",
    "#字典对于key和value都可以判断在不在\n",
    "print('age' in d1) \n",
    "print('jack' in d1)"
   ]
  },
  {
   "cell_type": "code",
   "execution_count": null,
   "metadata": {},
   "outputs": [],
   "source": [
    "#dict和set的增删改\n",
    "s = {'name',2,3,23,'dfd'}\n",
    "d1 = {'name':'jack','age':18,'gender':'male'}\n",
    "\n",
    "s.add(123)  #一次只能add一个\n",
    "d1['friends'] = ('ana,lucy')\n",
    "print(s)\n",
    "print(d1)\n",
    "s.remove(2) \n",
    "s.pop()\n",
    "d1.pop('name')\n",
    "print(s)\n",
    "print(d1)"
   ]
  },
  {
   "cell_type": "code",
   "execution_count": null,
   "metadata": {},
   "outputs": [],
   "source": [
    "#字典的key也是唯一的\n",
    "d1 = {'name':'jack','name':'ana','age':18,'gender':'male'}\n",
    "d2 = {'name':'ana','name':'jack','age':18,'gender':'male'}\n",
    "print(d1)\n",
    "print(d2)"
   ]
  },
  {
   "cell_type": "code",
   "execution_count": null,
   "metadata": {},
   "outputs": [],
   "source": [
    "d = {'name':'jack','age':18,'gender':'male'}\n",
    "\n",
    "print(hash('name')%3)\n",
    "print(hash('age')%3)\n",
    "print(hash('gender')%3)"
   ]
  },
  {
   "cell_type": "code",
   "execution_count": null,
   "metadata": {},
   "outputs": [],
   "source": [
    "\"\"\"\n",
    "注释\n",
    "\"\"\"\n",
    "s = \"\"\"hello\"\"\"\n",
    "print(s)"
   ]
  },
  {
   "cell_type": "code",
   "execution_count": null,
   "metadata": {},
   "outputs": [],
   "source": [
    "s = ''\n",
    "for i in range(100):\n",
    "    s += str(i)\n",
    "\n",
    "print(s)"
   ]
  },
  {
   "cell_type": "code",
   "execution_count": null,
   "metadata": {},
   "outputs": [],
   "source": [
    "s = []\n",
    "for n in range(1,100):\n",
    "    s.append(str(n))\n",
    "\n",
    "print(s)\n",
    "d = '_'.join(s)\n",
    "print(d)\n",
    "\n"
   ]
  },
  {
   "cell_type": "code",
   "execution_count": null,
   "metadata": {},
   "outputs": [],
   "source": [
    "s = ' my name is jack '\n",
    "d = s.strip()\n",
    "print(s)\n",
    "print(d)"
   ]
  },
  {
   "cell_type": "code",
   "execution_count": null,
   "metadata": {},
   "outputs": [],
   "source": [
    "print('i have a beautiful girl friend,her name is {},her id is {}'.format('mumu','123'))"
   ]
  },
  {
   "cell_type": "code",
   "execution_count": null,
   "metadata": {},
   "outputs": [],
   "source": [
    "import re\n",
    "file_address = r'd:/pyworkspace/in.txt'\n",
    "\n",
    "#读文件\n",
    "with open(file_address,'r') as f:\n",
    "    text = f.read()\n",
    "\n",
    "#去掉非单词\n",
    "text = re.sub(r'[\\W]',' ',text)\n",
    "\n",
    "#改小写\n",
    "text = text.lower()\n",
    "# print(text)\n",
    "\n",
    "text_list = text.split(' ')\n",
    "# print(text_list)\n",
    "\n",
    "text_list = filter(None,text_list)\n",
    "\n",
    "word_sta = {}\n",
    "\n",
    "for word in text_list:\n",
    "    if word not in word_sta:\n",
    "        word_sta[word] = 0\n",
    "    word_sta[word] += 1\n",
    "\n",
    "\n",
    "\n",
    "word_sta_sort = sorted(word_sta.items(),key=lambda ws: ws[1],reverse=True)\n",
    "\n",
    "print(word_sta_sort)\n",
    "\n"
   ]
  },
  {
   "cell_type": "code",
   "execution_count": null,
   "metadata": {},
   "outputs": [],
   "source": [
    "import json\n",
    "params = {    \n",
    "    'symbol': '123456',    \n",
    "    'type': 'limit',    \n",
    "    'price': 123.4,    \n",
    "    'amount': 23}\n",
    "    \n",
    "params_str = json.dumps(params)\n",
    "\n",
    "print(type(params_str),params_str)\n",
    "\n",
    "params_str_load = json.loads(params_str)\n",
    "\n",
    "print(type(params_str_load),params_str_load)\n"
   ]
  },
  {
   "cell_type": "code",
   "execution_count": null,
   "metadata": {},
   "outputs": [],
   "source": [
    "d = {'name': 'jason', 'dob': '2000-01-01', 'gender': 'male'}\n",
    "\n",
    "for item in d:\n",
    "    print(item)\n",
    "\n",
    "for item in d.values():\n",
    "    print(item)\n",
    "\n",
    "for k,v in d.items():\n",
    "    print('key:{},value:{}'.format(k,v))"
   ]
  },
  {
   "cell_type": "code",
   "execution_count": null,
   "metadata": {},
   "outputs": [],
   "source": [
    "'''\n",
    "ArithmeticError\n",
    "所谓 continue，就是让程序跳过当前这层循环，继续执行下面的循环；\n",
    "而 break 则是指完全跳出所在的整个循环体。\n",
    "'''\n",
    "\n",
    "#查询出价格小于1000，颜色不是红色的商品\n",
    "name_price = {'a':122,'b':989,'c':109,'d':1244,'e':12,'f':245,'g':2398}\n",
    "name_color = {'a':'white','b':'red','c':'violet','d':'black','e':'orange','f':'red'}\n",
    "\n",
    "for name,price in name_price.items():\n",
    "    if price >= 1000:\n",
    "        # print(name,price)\n",
    "        continue\n",
    "    # print('price < 1000 {}:{}'.format(name,price))\n",
    "    if name not in name_color:\n",
    "        continue\n",
    "    # print(name,price,name_color[name])\n",
    "    \n",
    "    if name_color[name] == 'red':\n",
    "        continue\n",
    "    print('name:{},color:{}'.format(name,name_price[name],name_color[name]))\n",
    "\n"
   ]
  },
  {
   "cell_type": "code",
   "execution_count": null,
   "metadata": {},
   "outputs": [],
   "source": [
    "\n",
    "attributes = ['name', 'dob', 'gender']\n",
    "values = [['jason', '2000-01-01', 'male'],['mike', '1999-01-01', 'male'],['nancy', '2001-02-01', 'female']]\n",
    "\n",
    "l = []\n",
    "\n",
    "for y in values:\n",
    "    l.append({attributes[0]:y[0],attributes[1]:y[1],attributes[2]:y[2]})\n",
    "\n",
    "print(l)\n"
   ]
  },
  {
   "cell_type": "code",
   "execution_count": null,
   "metadata": {},
   "outputs": [],
   "source": [
    "import matplotlib.pyplot as plt\n",
    "import numpy as np\n",
    "\n",
    "x = np.linspace(-3,3,50)\n",
    "y = x**2\n",
    "\n",
    "plt.figure()\n",
    "plt.plot(x,y,color = 'red',linewidth = 1.0,linestyle = '--')\n",
    "plt.show()\n"
   ]
  },
  {
   "cell_type": "code",
   "execution_count": null,
   "metadata": {},
   "outputs": [],
   "source": [
    "import matplotlib.pyplot as plt\n",
    "import numpy as np\n",
    "\n",
    "#定义公式\n",
    "x = np.linspace(-10,10,100)  #范围和数量\n",
    "y = x*np.sin(10*np.pi*x) + 2.0\n",
    "\n",
    "#定义画布\n",
    "plt.plot(x, y, color = 'blue')\n",
    "plt.title('Function f(x) = x*sin(10*pi*x) + 2.0')\n",
    "\n",
    "#显示\n",
    "plt.show()\n",
    "\n",
    "\n"
   ]
  },
  {
   "cell_type": "code",
   "execution_count": null,
   "metadata": {},
   "outputs": [],
   "source": [
    "\n",
    "a = 0  #全局变量\n",
    "def plus():\n",
    "    a = 1  #局部变量\n",
    "    for i in range(10):\n",
    "        a += i\n",
    "        print(a)\n",
    "\n",
    "plus()"
   ]
  },
  {
   "cell_type": "code",
   "execution_count": null,
   "metadata": {},
   "outputs": [],
   "source": [
    "#闭包\n",
    "\n",
    "def nth_power(exp):\n",
    "    def exp_of(base):\n",
    "        return base**exp\n",
    "    return exp_of\n",
    "\n",
    "#平方\n",
    "e2 = nth_power(2) #返回值是exp_of\n",
    "#求平方\n",
    "calc_e2 = e2(5)  #等价于exp_of(5)\n",
    "#nth_power(2)(5)\n",
    "print(calc_e2)\n"
   ]
  },
  {
   "cell_type": "code",
   "execution_count": null,
   "metadata": {},
   "outputs": [],
   "source": [
    "#匿名函数\n",
    "\n",
    "l = [(lambda x : x*x)(x) for x in range(1,10)] #(lambda x : x*x)返回的是函数对象，(lambda x : x*x)(x)是带参数的函数\n",
    "print(l)\n",
    "\n",
    "# from tkinter import Button, mainloop\n",
    "# button = Button( \n",
    "#     text='This is a button', \n",
    "#     command=lambda: print('being pressed')) # lambda: print('being pressed')无参数的状态\n",
    "# button.pack()\n",
    "# mainloop()\n",
    "\n",
    "h = lambda: print('being pressed')\n",
    "h() #与常规函数的调用一致"
   ]
  },
  {
   "cell_type": "code",
   "execution_count": null,
   "metadata": {},
   "outputs": [],
   "source": [
    "#map函数/函数式编程\n",
    "'''  \n",
    "map(function, iterable) 函数，前面的例子提到过，它表示，\n",
    "对 iterable 中的每个元素，都运用 function 这个函数，\n",
    "最后返回一个新的可遍历的集合\n",
    "\n",
    "'''\n",
    "l = [1,2,4,5,6] \n",
    "new_l = map(lambda x : x*x,[1,2,4,5,6])\n",
    "print(list(new_l))\n",
    "\n",
    "new_l2 = [x**3 for x in range(10)]\n",
    "print(new_l2)\n"
   ]
  },
  {
   "cell_type": "code",
   "execution_count": null,
   "metadata": {},
   "outputs": [],
   "source": [
    "#filter函数/函数式编程\n",
    "\n",
    "'''\n",
    "filter(function, iterable) 函数，\n",
    "function 同样表示一个函数对象。\n",
    "filter() 函数表示对 iterable 中的每个元素，\n",
    "都使用 function 判断，\n",
    "并返回 True 或者 False，\n",
    "最后将返回 True 的元素组成一个新的可遍历的集合。\n",
    "'''\n",
    "\n",
    "l = [1,3,4,6,8,2,10,34]\n",
    "new_l = filter(lambda x : x % 2 == 0,l)\n",
    "print(list(new_l))\n"
   ]
  },
  {
   "cell_type": "code",
   "execution_count": null,
   "metadata": {},
   "outputs": [],
   "source": [
    "#reduce()函数\n",
    "'''\n",
    "它通常用来对一个集合做一些累积操作。\n",
    "function 同样是一个函数对象，\n",
    "规定它有两个参数，\n",
    "表示对 iterable 中的每个元素以及上一次调用后的结果，\n",
    "运用 function 进行计算，\n",
    "所以最后返回的是一个单独的数值\n",
    "'''\n",
    "\n",
    "'''\n",
    "python3 中将reduce函数内置到functools中，非全局名字\n",
    "map和filter不受影响\n",
    "'''\n",
    "from functools import reduce\n",
    "# l = [1,2,3,4,5]\n",
    "new_l = reduce(lambda x,y:x*y,range(1,10))\n",
    "print(new_l)\n"
   ]
  },
  {
   "cell_type": "code",
   "execution_count": null,
   "metadata": {},
   "outputs": [],
   "source": [
    "d = {'mike': 10, 'lucy': 2, 'ben': 30}\n",
    "\n",
    "s = sorted(d.items(),key = lambda x : x[1])\n",
    "\n",
    "print(s)"
   ]
  },
  {
   "cell_type": "code",
   "execution_count": null,
   "metadata": {},
   "outputs": [],
   "source": [
    "'''\n",
    "对象、类\n",
    "抽象类作为父类，抽象类就是这么一种存在，\n",
    "它是一种自上而下的设计风范，\n",
    "你只需要用少量的代码描述清楚要做的事情，\n",
    "定义好接口，然后就可以交给不同开发人员去开发和对接。\n",
    "'''\n",
    "from abc import ABCMeta,abstractmethod   #abc是抽象基类\n",
    "\n",
    "class entity(metaclass = ABCMeta):  #ABCMeta抽象类基类\n",
    "    def __init__(self):\n",
    "        pass\n",
    "    \n",
    "    @abstractmethod   #抽象类装饰器\n",
    "    def get_title():\n",
    "        pass\n",
    "\n",
    "    @abstractmethod\n",
    "    def set_title():\n",
    "        pass\n",
    "\n",
    "class Document(entity):\n",
    "\n",
    "    def get_title(self):\n",
    "        print(self.title) \n",
    "\n",
    "    def set_title(self, title):\n",
    "        self.title = title\n",
    "\n",
    "\n",
    "doc = Document()\n",
    "\n",
    "doc.set_title('hello')\n",
    "doc.get_title()\n",
    "\n",
    "#e = entity() #抽象类不能实例化\n"
   ]
  },
  {
   "cell_type": "code",
   "execution_count": 2,
   "metadata": {},
   "outputs": [
    {
     "name": "stdout",
     "output_type": "stream",
     "text": [
      "found 1 results (s):\n",
      "D:\\pyworkspace\\testtxt\\5.txt\n"
     ]
    }
   ],
   "source": [
    "'''\n",
    "简单的搜索引擎\n",
    "类的继承\n",
    "1.子类继承父类的所有属性、函数、方法\n",
    "2.子类继承多个父类时，按声明的顺序进行调用，或者直接使用父类名称调用\n",
    "3.子类可以重写父类的函数\n",
    "\n",
    "'''\n",
    "#include utf-8\n",
    "\n",
    "file_li = [\n",
    "    r'D:\\pyworkspace\\testtxt\\1.txt',\n",
    "    r'D:\\pyworkspace\\testtxt\\2.txt',\n",
    "    r'D:\\pyworkspace\\testtxt\\3.txt',\n",
    "    r'D:\\pyworkspace\\testtxt\\4.txt',\n",
    "    r'D:\\pyworkspace\\testtxt\\5.txt',\n",
    "]\n",
    "\n",
    "class searchEngineBase(object):  #define基类\n",
    "    def __init__(self):\n",
    "        pass\n",
    "\n",
    "    def add_corpus(self, file_path):\n",
    "        with open(file_path, 'r',encoding='gb18030') as fin:\n",
    "            text = fin.read()\n",
    "        self.process_corpus(file_path, text)\n",
    "\n",
    "    #基类函数，待实例化后重写，未重写调用会抛出异常\n",
    "    def process_corpus(self, id,text):\n",
    "        raise Exception(\"process_corpus not implemented.\")\n",
    "\n",
    "    def search(self,query):\n",
    "        raise Exception(\"search not implemented.\")\n",
    "\n",
    "\n",
    "class simpleEngine(searchEngineBase):\n",
    "    def __init__(self):\n",
    "        super(simpleEngine,self).__init__()  #调用simpleEngine的父类即searchEngineBase的构造方法\n",
    "        self.__id_to_text = {}  #私有\n",
    "    def process_corpus(self,id,text):  #重写父类的该函数\n",
    "        self.__id_to_text[id] = text\n",
    "    def search(self, query):  #重写父类的该函数\n",
    "        results = []\n",
    "        for id,text in self.__id_to_text.items():   \n",
    "            if query in text:\n",
    "                results.append(id)\n",
    "        return results\n",
    "\n",
    "def main(search_engine):\n",
    "    for file_path in file_li:\n",
    "        search_engine.add_corpus(file_path)   #调用的是search_engine的父类的add_corpus\n",
    "\n",
    "    while True:\n",
    "        query = input()\n",
    "        results = search_engine.search(query)\n",
    "        print('found {} results (s):'.format(len(results)))\n",
    "        for result in results:\n",
    "            print(result)\n",
    "        break\n",
    "\n",
    "\n",
    "search_engine = simpleEngine()\n",
    "main(search_engine)\n",
    "\n",
    "\n",
    "\n"
   ]
  },
  {
   "cell_type": "code",
   "execution_count": null,
   "metadata": {},
   "outputs": [],
   "source": [
    "'''\n",
    "if __name__ == '__main__':   函数入口\n",
    "\n",
    "能够保证在其他文件引用时，不执行入口以下的内容\n",
    "'''"
   ]
  },
  {
   "cell_type": "code",
   "execution_count": 3,
   "metadata": {},
   "outputs": [
    {
     "name": "stdout",
     "output_type": "stream",
     "text": [
      "(1, 2, [3, 4, 5])\n"
     ]
    }
   ],
   "source": [
    "t1 = (1,2,[3,4])\n",
    "t2 = (1,2,[3,4])\n",
    "\n",
    "t2[-1].append(5)\n",
    "\n",
    "print(t2)"
   ]
  },
  {
   "cell_type": "code",
   "execution_count": 6,
   "metadata": {},
   "outputs": [
    {
     "name": "stdout",
     "output_type": "stream",
     "text": [
      "[[1, 2, 3], (30, 40), 100] [[1, 2, 3], (30, 40)]\n",
      "[[1, 2, 3], (30, 40), 100] [[1, 2], (30, 40)]\n"
     ]
    }
   ],
   "source": [
    "'''\n",
    "浅拷贝和深拷贝\n",
    "'''\n",
    "import copy\n",
    "l1 = [[1,2],(30,40)]\n",
    "l2 = list(l1)   #浅拷贝，l2是对l1得[1,2],(30,40)两个元素的引用\n",
    "\n",
    "l1[0].append(3)   #给[1,2]元素append3，[1,2]元素是被l2引用的，所以造成了l2受影响\n",
    "l1.append(100)   #给l1append100，跟l2引用的[1,2],(30,40)两个元素没有关系，所以对l2没有影响\n",
    "print(l1,l2)\n",
    "\n",
    "\n",
    "l3 = [[1,2],(30,40)]\n",
    "l4 = copy.deepcopy(l3)   #deepcopy完全不影响\n",
    "l3[0].append(3) \n",
    "l3.append(100)\n",
    "\n",
    "print(l3,l4)\n",
    "\n",
    "\n",
    "\n",
    "\n",
    "\n",
    "\n",
    "\n",
    "\n"
   ]
  },
  {
   "cell_type": "code",
   "execution_count": 10,
   "metadata": {},
   "outputs": [
    {
     "name": "stdout",
     "output_type": "stream",
     "text": [
      "1612660343024\n",
      "1612660343024\n",
      "1612660343056 2\n"
     ]
    }
   ],
   "source": [
    "\"\"\"\n",
    "传参\n",
    "\"\"\"\n",
    "# a = 1\n",
    "# b = a\n",
    "# a = a + 1\n",
    "\n",
    "# print(id(a),a)\n",
    "# print(id(b),b)\n",
    "\n",
    "a = 1\n",
    "b = 1\n",
    "c = b\n",
    "\n",
    "c = 2\n",
    "print(id(a))\n",
    "print(id(b))\n",
    "print(id(c),c)\n"
   ]
  },
  {
   "cell_type": "code",
   "execution_count": 1,
   "metadata": {},
   "outputs": [
    {
     "name": "stdout",
     "output_type": "stream",
     "text": [
      "wrapper of my decorator\n",
      "hello world\n"
     ]
    }
   ],
   "source": [
    "'''\n",
    "这里的函数 my_decorator() 就是一个装饰器，\n",
    "它把真正需要执行的函数 greet() 包裹在其中，\n",
    "并且改变了它的行为，但是原函数 greet() 不变。\n",
    "'''\n",
    "def my_decorator(func):\n",
    "    def wrapper():\n",
    "        print('wrapper of my decorator')\n",
    "        func()\n",
    "    return wrapper\n",
    "\n",
    "def greet():\n",
    "    print('hello world')\n",
    "\n",
    "greet = my_decorator(greet) \n",
    "'''\n",
    "参数传递\n",
    "greet = my_decorator(greet) 会返回wrapper,同时将greet传给func\n",
    "既wrapper函数变为\n",
    "def wrapper():\n",
    "    print('wrapper of my decorator')\n",
    "    greet()\n",
    "'''\n",
    "greet()   #相当于执行wrapper()函数，而且是greet赋值后的，因此先执行print('wrapper of my decorator')，再执行greet()\n",
    "\n",
    "# @my_decorator\n",
    "# def greet():\n",
    "#     print('hello world')\n",
    "# greet()"
   ]
  },
  {
   "cell_type": "code",
   "execution_count": 3,
   "metadata": {},
   "outputs": [
    {
     "name": "stdout",
     "output_type": "stream",
     "text": [
      "wrapper of my decorator\n",
      "hello world\n"
     ]
    }
   ],
   "source": [
    "'''简单装饰器(装饰器无参数@decorator)\n",
    "实际上相当于给原函数添加额外的功能，但是又不改变原函数，用外挂插件理解更合适\n",
    "所以装饰器这个命名挺准确\n",
    "'''\n",
    "\n",
    "#这是装饰器壳子\n",
    "def my_decorator(func):\n",
    "    #这是实际的装饰函数\n",
    "    def wrapper():\n",
    "        print('wrapper of my decorator')\n",
    "        func()\n",
    "    return wrapper\n",
    "\n",
    "'''\n",
    "语法糖写法\n",
    "@my_decorator\n",
    "相当于\n",
    "greet = my_decorator(greet)\n",
    "'''\n",
    "@my_decorator\n",
    "#这是原函数\n",
    "def greet():\n",
    "    print('hello world')\n",
    "\n",
    "greet()\n",
    "\n",
    "#语法糖写法"
   ]
  },
  {
   "cell_type": "code",
   "execution_count": 5,
   "metadata": {},
   "outputs": [
    {
     "name": "stdout",
     "output_type": "stream",
     "text": [
      "wrapper of my decorator\n",
      "hello\n"
     ]
    }
   ],
   "source": [
    "'''原函数传参给装饰器'''\n",
    "def my_decorator(func):\n",
    "    def wrapper(msg):\n",
    "        print('wrapper of my decorator')\n",
    "        func(msg)\n",
    "    return wrapper\n",
    "\n",
    "@my_decorator\n",
    "def greet(msg):\n",
    "    print(msg)\n",
    "\n",
    "greet('hello')\n",
    "'''\n",
    "执行时的参数传递如下：\n",
    "返回的wrapper函数是\n",
    "def wrapper(msg):\n",
    "    print('wrapper of my decorator')\n",
    "    greet(msg)\n",
    "\n",
    "执行greet('hello')时实际上是\n",
    "wrapper('hello')\n",
    "即\n",
    "def wrapper('hello'):\n",
    "    print('wrapper of my decorator')\n",
    "    greet('hello')\n",
    "\n",
    "总结：原函数参数(msg)是需要在装饰函数上声明的(wrapper(msg))\n",
    "原函数名是在装饰器壳子上传递的\n",
    "'''\n"
   ]
  },
  {
   "cell_type": "code",
   "execution_count": 7,
   "metadata": {},
   "outputs": [
    {
     "name": "stdout",
     "output_type": "stream",
     "text": [
      "wrapper of my decorator\n",
      "hellolyon\n"
     ]
    }
   ],
   "source": [
    "'''原函数传多参数给装饰器'''\n",
    "def my_decorator(func):\n",
    "    def wrapper(*args,**kwargs):\n",
    "        print('wrapper of my decorator')\n",
    "        func(*args,**kwargs)\n",
    "    return wrapper\n",
    "\n",
    "@my_decorator\n",
    "def greet(msg1,msg2):\n",
    "    print(msg1+msg2)\n",
    "\n",
    "greet('hello','lyon')\n"
   ]
  },
  {
   "cell_type": "code",
   "execution_count": 11,
   "metadata": {},
   "outputs": [
    {
     "name": "stdout",
     "output_type": "stream",
     "text": [
      "wrapper of my decorotor\n",
      "hello\n",
      "wrapper of my decorotor\n",
      "hello\n",
      "wrapper of my decorotor\n",
      "hello\n",
      "wrapper of my decorotor\n",
      "hello\n",
      "wrapper\n"
     ]
    }
   ],
   "source": [
    "'''带参数的装饰器   @decorotor()'''\n",
    "\n",
    "def repeat(num):\n",
    "    def my_decorator(func):\n",
    "        def wrapper(*args, **kwargs):\n",
    "            for i in range(num):\n",
    "                print('wrapper of my decorotor')\n",
    "                func(*args, **kwargs)\n",
    "        return wrapper   #wrapper返回给my_decorator\n",
    "    return my_decorator  #my_decorator返回给repeat\n",
    "    #没有层层返回会造成Nonetype\n",
    "\n",
    "@repeat(4)\n",
    "def greet():\n",
    "    print('hello')\n",
    "\n",
    "greet()\n",
    "\n",
    "#原函数的元信息name已经改变\n",
    "print(greet.__name__)\n"
   ]
  },
  {
   "cell_type": "code",
   "execution_count": 14,
   "metadata": {},
   "outputs": [
    {
     "name": "stdout",
     "output_type": "stream",
     "text": [
      "wrapper of my decorator\n",
      "hello  lyon\n",
      "greet\n"
     ]
    }
   ],
   "source": [
    "'''装饰器嵌套，保留原函数元信息'''\n",
    "import functools   #引用内置装饰器\n",
    "def my_decorator(func):\n",
    "    @functools.wraps(func)  #内置装饰器，保留原函数元信息\n",
    "    def wrapper(*args,**kwargs):\n",
    "        print('wrapper of my decorator')\n",
    "        func(*args,**kwargs)\n",
    "    return wrapper\n",
    "\n",
    "\n",
    "@my_decorator\n",
    "def greet(msg1,msg2):\n",
    "    print(msg1+msg2)\n",
    "\n",
    "greet('hello','  lyon')\n",
    "print(greet.__name__)\n"
   ]
  },
  {
   "cell_type": "code",
   "execution_count": null,
   "metadata": {},
   "outputs": [],
   "source": [
    "'''类装饰器'''\n",
    "\n",
    "\n",
    "\n",
    "\n"
   ]
  }
 ],
 "metadata": {
  "kernelspec": {
   "display_name": "Python 3.10.1 64-bit",
   "language": "python",
   "name": "python3"
  },
  "language_info": {
   "codemirror_mode": {
    "name": "ipython",
    "version": 3
   },
   "file_extension": ".py",
   "mimetype": "text/x-python",
   "name": "python",
   "nbconvert_exporter": "python",
   "pygments_lexer": "ipython3",
   "version": "3.10.1"
  },
  "orig_nbformat": 4,
  "vscode": {
   "interpreter": {
    "hash": "478a92dbe663cce7c3fa41c61c54289e8c18324b2087979ba9b3d34363863902"
   }
  }
 },
 "nbformat": 4,
 "nbformat_minor": 2
}
